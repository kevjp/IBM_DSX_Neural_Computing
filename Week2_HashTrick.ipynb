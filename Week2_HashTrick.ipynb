{
    "nbformat_minor": 1, 
    "cells": [
        {
            "source": "# Lab Sheet 2: Extracting Word Fequency Vectors with Spark\n\nThese tasks are for working in the lab session and during the week. We'll do a bit of word preprocessing in task 1) and in task 2) we'll load a number of files and will go through the processing steps to extract word frequencies. \n", 
            "cell_type": "markdown", 
            "metadata": {}
        }, 
        {
            "source": "### Getting data from git\nThe cell below will create a local copy from our Github repository into the local filesystem. This only needs to be done once", 
            "cell_type": "markdown", 
            "metadata": {}
        }, 
        {
            "execution_count": 1, 
            "cell_type": "code", 
            "metadata": {}, 
            "outputs": [
                {
                    "output_type": "stream", 
                    "name": "stdout", 
                    "text": "Cloning into 'City-Data-Science'...\nremote: Counting objects: 41, done.\u001b[K\nremote: Compressing objects: 100% (39/39), done.\u001b[K\nremote: Total 41 (delta 7), reused 21 (delta 1), pack-reused 0\u001b[K\nUnpacking objects: 100% (41/41), done.\n"
                }
            ], 
            "source": "!git clone https://github.com/tweyde/City-Data-Science.git"
        }, 
        {
            "source": "The next cell will update the local copy of the repository. You should do this once a week, or when asked. ", 
            "cell_type": "markdown", 
            "metadata": {}
        }, 
        {
            "execution_count": 2, 
            "cell_type": "code", 
            "metadata": {}, 
            "outputs": [
                {
                    "output_type": "stream", 
                    "name": "stdout", 
                    "text": "/gpfs/global_fs01/sym_shared/YPProdSpark/user/sb1c-2a2fc727357cc3-3b10766cfe3e/notebook/work/City-Data-Science\nFrom https://github.com/tweyde/City-Data-Science\n * branch            HEAD       -> FETCH_HEAD\nAlready up-to-date.\n/gpfs/global_fs01/sym_shared/YPProdSpark/user/sb1c-2a2fc727357cc3-3b10766cfe3e/notebook/work\n"
                }
            ], 
            "source": "%cd City-Data-Science/\n!git pull https://github.com/tweyde/City-Data-Science.git\n%cd .."
        }, 
        {
            "source": "## 1) Word preparation\n\nDefine your own mapper function for removing the plural \u201cs\u201d at the end of words and turning them to lower case as a rough approximation towards stemming. \n\nUse the python def syntax [see here](https://docs.python.org/release/1.5.1p1/tut/functions.html) to define your own function stripFinalS(word) that takes as argument a word, and outputs the word in lower case without any possible trailing \u201cs\u201d.\n\nFor this task, you can treat strings as lists and apply \"list slicing\": <br>\n`lst[0:3] # the first three elements` <br>\n`lst[:-2] # all but the last two elements`\n\nYou need to check that the string is not empty (test `len(word)`) before accessing the letters in the string, otherwise you'll raise an exception.m", 
            "cell_type": "markdown", 
            "metadata": {}
        }, 
        {
            "execution_count": 3, 
            "cell_type": "code", 
            "metadata": {}, 
            "outputs": [
                {
                    "output_type": "stream", 
                    "name": "stdout", 
                    "text": "house\n"
                }
            ], 
            "source": "def stripFinalS( word ):\n    if len(word) > 0:\n        if word[-1] == \"s\":\n            word = word[:-1]\n    return word.lower()\n\n#>>> add code here\n\nprint(stripFinalS('houses')) # for testing, should return 'house'"
        }, 
        {
            "source": "Add your new function into the word count example below for testing, replacing the `lower()` method.", 
            "cell_type": "markdown", 
            "metadata": {}
        }, 
        {
            "execution_count": 4, 
            "cell_type": "code", 
            "metadata": {}, 
            "outputs": [
                {
                    "output_type": "stream", 
                    "name": "stdout", 
                    "text": "['Project', 'Gutenberg', 'Etext']\n"
                }, 
                {
                    "execution_count": 4, 
                    "metadata": {}, 
                    "data": {
                        "text/plain": "['Project', 'Gutenberg', 'Etext']"
                    }, 
                    "output_type": "execute_result"
                }
            ], 
            "source": "from operator import add\nimport re\n\nlinesRDD = sc.textFile(\"./City-Data-Science/library/hamlet.txt\") # read text as RDD\nwordsRDD = linesRDD.flatMap(lambda line: re.split('\\W+',line)) # split words, break lists\nwordsFilteredRDD = wordsRDD.filter(lambda word: len(word)>0)\nwords1RDD = wordsFilteredRDD.map(lambda word: (word.lower(),1)) # lower case, (w,1) pairs\nwordCountRDD = words1RDD.reduceByKey(add) # reduce and add up counts\nfreqWordsRDD = wordCountRDD.filter(lambda x:  x[1] >= 5 ) # remove rare words\n\noutput = freqWordsRDD.sortBy(lambda x: -x[1]).take(10) # collect 1o most frequent words\nfor (word, count) in output: # iterate over (w,c) pairs\n    print(\"%s: %i\" % (word, count)) #  \u2026 and print\n# this sohuld print the stopwords with their "
        }, 
        {
            "source": "# 2) Extracting word frequency vectors from text documents\n\nNow we start a new script, which reads in a whole directory with text files and extracts word frequency information.\n\nThis involves some tuple restructuing and list transformation. It is important to use meaningful variable names. Also it is helpful to use pen and paper (or a text editor) to write down the structures that you are intending to create. Keep in mind the final goal of getting a list of words and their frequencies for each file, i.e. (filename,[(w,c), ... , (w,c)]). \n\n\n## 2a) Load the files\nLoad all text files in the directory /data/student/bigdatastud/library on the server lewes using sc.wholeTextFiles <br>(see [http://spark.apache.org/docs/2.0.0/api/python/pyspark.html#pyspark.SparkContext.wholeTextFiles](http://spark.apache.org/docs/2.0.0/api/python/pyspark.html#pyspark.SparkContext.wholeTextFiles)). This will create an RDD with tuples of the structure (filepath,content), where content is the whole text from the file. ", 
            "cell_type": "markdown", 
            "metadata": {}
        }, 
        {
            "execution_count": 9, 
            "cell_type": "code", 
            "metadata": {}, 
            "outputs": [
                {
                    "output_type": "stream", 
                    "name": "stdout", 
                    "text": "partitions:  2\nelements:  19\n"
                }
            ], 
            "source": "dirPath = \"./City-Data-Science/library/\"\nfw_RDD = sc.wholeTextFiles(dirPath)\n#<<< add code to create an RDD with wholeTextFiles\nprint(\"partitions: \", fw_RDD.getNumPartitions()) # on IBM DSX we have 2 executors by default with one partition each\nprint(\"elements: \", fw_RDD.count())\n# this should print partitions:  2 and elements:  19"
        }, 
        {
            "source": "## 2b) Split the RDD elements using flatMap to make the (filename, word) tuples the key.\n\nFor this define a function that takes a pair `(filename,content)` and output list of pairs `[(filename, word1), ...(filename, wordN)]`. You can get the words as usual by re.split(\u2019\\W+\u2019,x). \n\nUse list comprehensions (see http://www.pythonforbeginners.com/basics/list-comprehensions-in-python) to iterate through the word list in a for loop, and append the (filename,word) tuples to a new list.  \n\nBelow is a template, you need to fill in the that starts with `<<<`.", 
            "cell_type": "markdown", 
            "metadata": {}
        }, 
        {
            "execution_count": 10, 
            "cell_type": "code", 
            "metadata": {}, 
            "outputs": [
                {
                    "output_type": "stream", 
                    "name": "stdout", 
                    "text": "[('file:/gpfs/global_fs01/sym_shared/YPProdSpark/user/sb1c-2a2fc727357cc3-3b10766cfe3e/notebook/work/City-Data-Science/library/prideandpredjudice.txt', '')]\n"
                }
            ], 
            "source": "def splitFileWords(filenameContent): # your splitting function\n    f,c = filenameContent # unpack the input tuple  \n    fwLst = [] # the new list for (filename,word) tuples\n    wLst =  re.split('\\W+',c) # <<< now create a word list wLst be splitting c (the content)\n    for w in wLst: # iterate through the list\n        fwLst.append((f,w)) # <<< and append (f,w) to the fwList\n    return fwLst #return a list of (f,w) tuples \n    \nfw_RDD = fw_RDD.flatMap(splitFileWords)\nprint(fw_RDD.take(1))\n# should print something similar to this:\n# [('file:/gpfs/global_fs01/sym_shared/YPProdSpark/user/s832-dfe96c6e1f1d61-70d619a53771/notebook/work/City-Data-Science/library/prideandpredjudice.txt',\n# 'The'),"
        }, 
        {
            "source": "### Question: \nLooking that the new elements, what might be problematic if we were using a large dataset and what could we do to prevent this from happening?", 
            "cell_type": "markdown", 
            "metadata": {}
        }, 
        {
            "source": "Now use filter to keep only the tuples with stopwords (remember, the words are now the 2nd element of the tuple).", 
            "cell_type": "markdown", 
            "metadata": {}
        }, 
        {
            "execution_count": 11, 
            "cell_type": "code", 
            "metadata": {}, 
            "outputs": [
                {
                    "execution_count": 11, 
                    "metadata": {}, 
                    "data": {
                        "text/plain": "[('file:/gpfs/global_fs01/sym_shared/YPProdSpark/user/sb1c-2a2fc727357cc3-3b10766cfe3e/notebook/work/City-Data-Science/library/tempest.txt',\n  'you'),\n ('file:/gpfs/global_fs01/sym_shared/YPProdSpark/user/sb1c-2a2fc727357cc3-3b10766cfe3e/notebook/work/City-Data-Science/library/tempest.txt',\n  'you'),\n ('file:/gpfs/global_fs01/sym_shared/YPProdSpark/user/sb1c-2a2fc727357cc3-3b10766cfe3e/notebook/work/City-Data-Science/library/tempest.txt',\n  'you')]"
                    }, 
                    "output_type": "execute_result"
                }
            ], 
            "source": "stopwlst = ['the','a','in','of','on','at','for','by','I','you','me'] # stopword list\nfw_RDD2 = fw_RDD.filter(lambda x: x[1] in stopwlst) #<<< filter, keeping only stopwords as 2nd part of the tuples\nfw_RDD2.top(3) #"
        }, 
        {
            "source": "\n## 2c) Count the words and reorganise the tuples to count: ((filename,word), count)\n\nNow you can package the elements into tuples with 1s and use reduceByKey(add) to get the counts of the words per filename, similar to last week and in task 1 above.", 
            "cell_type": "markdown", 
            "metadata": {}
        }, 
        {
            "execution_count": 12, 
            "cell_type": "code", 
            "metadata": {}, 
            "outputs": [
                {
                    "execution_count": 12, 
                    "metadata": {}, 
                    "data": {
                        "text/plain": "[(('file:/gpfs/global_fs01/sym_shared/YPProdSpark/user/sb1c-2a2fc727357cc3-3b10766cfe3e/notebook/work/City-Data-Science/library/tempest.txt',\n   'you'),\n  260),\n (('file:/gpfs/global_fs01/sym_shared/YPProdSpark/user/sb1c-2a2fc727357cc3-3b10766cfe3e/notebook/work/City-Data-Science/library/tempest.txt',\n   'the'),\n  695),\n (('file:/gpfs/global_fs01/sym_shared/YPProdSpark/user/sb1c-2a2fc727357cc3-3b10766cfe3e/notebook/work/City-Data-Science/library/tempest.txt',\n   'on'),\n  85)]"
                    }, 
                    "output_type": "execute_result"
                }
            ], 
            "source": "fw_1_RDD = fw_RDD2.map(lambda x: ((x,1)))  #<<< change (f,w) to ((f,w),1)\nfw_1_RDD.top(3)\nfw_c_RDD = fw_1_RDD.reduceByKey(add) #<<< count the words\nfw_c_RDD.top(3)\n#"
        }, 
        {
            "source": "## 2d) Creating and concatenating lists\n\nAs a next step, map the `((filename,word),count)` eleemnts to `( filename, [ (word, count) ])` structure, i.e. rearange and wrap a list aournd the one tuple (just by writing squre backets). For this create a function `reGrpLst` to regroup and create a list. Check that the output has the intended structure.", 
            "cell_type": "markdown", 
            "metadata": {}
        }, 
        {
            "execution_count": 13, 
            "cell_type": "code", 
            "metadata": {}, 
            "outputs": [
                {
                    "execution_count": 13, 
                    "metadata": {}, 
                    "data": {
                        "text/plain": "[('file:/gpfs/global_fs01/sym_shared/YPProdSpark/user/sb1c-2a2fc727357cc3-3b10766cfe3e/notebook/work/City-Data-Science/library/tempest.txt',\n  [('you', 260)]),\n ('file:/gpfs/global_fs01/sym_shared/YPProdSpark/user/sb1c-2a2fc727357cc3-3b10766cfe3e/notebook/work/City-Data-Science/library/tempest.txt',\n  [('the', 695)]),\n ('file:/gpfs/global_fs01/sym_shared/YPProdSpark/user/sb1c-2a2fc727357cc3-3b10766cfe3e/notebook/work/City-Data-Science/library/tempest.txt',\n  [('on', 85)])]"
                    }, 
                    "output_type": "execute_result"
                }
            ], 
            "source": "def reGrpLst(fw_c): # we get a nested tuple\n    fw,c = fw_c # unpack the outer tuple\n    f,w = fw  # unpack the inner tuple\n    return (f,[(w,c)]) #structure. Can be used verbatim, if your variable names match.\n\nf_wcL_RDD = fw_c_RDD.map(reGrpLst) \nf_wcL_RDD.top(3)"
        }, 
        {
            "source": "Next we can concatenate the lists per filename using reduceByKey(). Write a lambda that cancatenates the lists per element.  Concatenation of lists in Python is done with '+', e.g.  `[1,2] + [3,4]` returns `[1,2,3,4]`.", 
            "cell_type": "markdown", 
            "metadata": {}
        }, 
        {
            "execution_count": 14, 
            "cell_type": "code", 
            "metadata": {}, 
            "outputs": [], 
            "source": "f_wcL2_RDD = f_wcL_RDD.reduceByKey(lambda wc1,wc2: wc1 + wc2) #<<< create [(w,c), ... ,(w,c)] lists per file "
        }, 
        {
            "execution_count": 15, 
            "cell_type": "code", 
            "metadata": {
                "pixiedust": {
                    "displayParams": {}
                }
            }, 
            "outputs": [
                {
                    "output_type": "stream", 
                    "name": "stdout", 
                    "text": "('file:/gpfs/global_fs01/sym_shared/YPProdSpark/user/sb1c-2a2fc727357cc3-3b10766cfe3e/notebook/work/City-Data-Science/library/prideandpredjudice.txt', [('on', 691), ('for', 1062), ('I', 2066), ('you', 1181), ('a', 1962), ('the', 4218), ('me', 431), ('by', 643), ('in', 1850), ('of', 3706), ('at', 758)])\n\n('file:/gpfs/global_fs01/sym_shared/YPProdSpark/user/sb1c-2a2fc727357cc3-3b10766cfe3e/notebook/work/City-Data-Science/library/richard_III.txt', [('I', 753), ('on', 144), ('you', 373), ('the', 895), ('a', 330), ('for', 227), ('me', 311), ('by', 152), ('at', 97), ('in', 385), ('of', 656)])\n\n('file:/gpfs/global_fs01/sym_shared/YPProdSpark/user/sb1c-2a2fc727357cc3-3b10766cfe3e/notebook/work/City-Data-Science/library/julius_cesar.txt', [('for', 133), ('I', 531), ('by', 99), ('the', 562), ('me', 189), ('you', 361), ('a', 241), ('on', 83), ('in', 214), ('of', 395), ('at', 63)])\n\n"
                }
            ], 
            "source": "output = f_wcL2_RDD.collect() \nfor el in output[1:4]:\n    print(el)\n    print()\n# should show something like this:\n# ('file:/gpfs/global_fs01/sym_shared/YPProdSpark/user/s832-dfe96c6e1f1d61-70d619a53771/notebook/work/City-Data-Science/library/king_lear.txt', \n# [('of', 495), ('in', 280), ('at', 66), ('me', 228), ('I', 705), ('for', 130), ('on', 104), ('you', 412), ('a', 364), ('the', 746), ('by', 84)])"
        }, 
        {
            "source": "## 2e) Creating Hash Vectors\n\nIf we want to use all the words in each text, we need to reduce the dimensionality of the vectors. For this we use the 'Hashing Trick' shown in the lecture. \n\nStart by writing a function that takes a (word,count) list, and transforms it into vector of fixed size. For that you need to take the have value of each word module the size (`hash(word) % size`) and add up all counts that map here. ", 
            "cell_type": "markdown", 
            "metadata": {}
        }, 
        {
            "execution_count": 16, 
            "cell_type": "code", 
            "metadata": {}, 
            "outputs": [
                {
                    "execution_count": 16, 
                    "metadata": {}, 
                    "data": {
                        "text/plain": "[36, 0, 36, 0, 34]"
                    }, 
                    "output_type": "execute_result"
                }
            ], 
            "source": "def hashWcList(lst,size):\n    lst2 = [0] * size;\n    for (w,c) in lst:\n        lst2[hash(w)%size] += c # determine the position with hash(w)%size and add c there\n    return lst2\n        \nhashWcList([('this',23),('is',12),('a',34),('little',13),('test',24)],5) # for testing\n#output should look like this: [36, 0, 36, 0, 34]"
        }, 
        {
            "execution_count": 18, 
            "cell_type": "code", 
            "metadata": {
                "pixiedust": {
                    "displayParams": {}
                }
            }, 
            "outputs": [
                {
                    "output_type": "stream", 
                    "name": "stdout", 
                    "text": "('file:/gpfs/global_fs01/sym_shared/YPProdSpark/user/sb1c-2a2fc727357cc3-3b10766cfe3e/notebook/work/City-Data-Science/library/prideandpredjudice.txt', [4464, 1824, 1850, 2066, 0, 1122, 0, 5280, 0, 1962])\n\n('file:/gpfs/global_fs01/sym_shared/YPProdSpark/user/sb1c-2a2fc727357cc3-3b10766cfe3e/notebook/work/City-Data-Science/library/richard_III.txt', [753, 525, 385, 753, 0, 455, 0, 1122, 0, 330])\n\n('file:/gpfs/global_fs01/sym_shared/YPProdSpark/user/sb1c-2a2fc727357cc3-3b10766cfe3e/notebook/work/City-Data-Science/library/julius_cesar.txt', [458, 460, 214, 531, 0, 272, 0, 695, 0, 241])\n\n"
                }
            ], 
            "source": "f_hv_RDD = f_wcL2_RDD.map(lambda f_wcl: (f_wcl[0],hashWcList(f_wcl[1],10)))\noutput2 = f_hv_RDD.collect()\nfor el in output2[1:4]:\n    print(el)\n    print()\n# now we can display a 10-dimensional vector for every text file "
        }, 
        {
            "execution_count": null, 
            "cell_type": "code", 
            "metadata": {}, 
            "outputs": [], 
            "source": ""
        }
    ], 
    "metadata": {
        "kernelspec": {
            "display_name": "Python 3.5 with Spark 1.6 (Unsupported)", 
            "name": "python3", 
            "language": "python"
        }, 
        "language_info": {
            "mimetype": "text/x-python", 
            "nbconvert_exporter": "python", 
            "version": "3.5.4", 
            "name": "python", 
            "file_extension": ".py", 
            "pygments_lexer": "ipython3", 
            "codemirror_mode": {
                "version": 3, 
                "name": "ipython"
            }
        }
    }, 
    "nbformat": 4
}