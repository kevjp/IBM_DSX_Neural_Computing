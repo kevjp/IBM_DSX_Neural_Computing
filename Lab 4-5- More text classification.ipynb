{
    "nbformat_minor": 1, 
    "cells": [
        {
            "source": "# Lab Sheet 4-5: More Text Classification, Semi-structured text processing and DataFrames\n\nThese tasks are for working in the lab session and during the week. We'll build on last weeks code and add some classification. \n\nFor this lab, we are going to use a simple text classification problem as an example to build an ML pipeline in Spark MLlib, inspect it if it doesn't work as expected, and tune hyperparameters. We will also do some web scraping and \n", 
            "cell_type": "markdown", 
            "metadata": {}
        }, 
        {
            "source": "\n\n## PART 1 - LAB\n## 1) Dataset: Newsgroups\n\nNow we use anoter, larger dataset, which consists of 'usenet' discussions from the early days of the Internet. This dataset contains messages from 20 different newsgroups on different topics with ~1000 messages each. More information and the data can be found here here:\n\n[http://archive.ics.uci.edu/ml/machine-learning-databases/20newsgroups-mld/](http://archive.ics.uci.edu/ml/machine-learning-databases/20newsgroups-mld/)\n\nWith the larger dataset you should get more meaningful time measurements. Try several runs and try executing things in different oder (here we are only training a LR classifier, however you are encouraged to try other models). \nTo create a meaningful dataset for classification, you need read in at least 2 topics and then use `RDD.randomSplit()`. For this lab , we will use alt.atheism and comp.graphics. Try adding more topics to the dataset, there are 20 differet directories (i.e. topics).\n\n\nTo download and unpack the data, use the following code:", 
            "cell_type": "markdown", 
            "metadata": {}
        }, 
        {
            "execution_count": 10, 
            "cell_type": "code", 
            "metadata": {}, 
            "outputs": [
                {
                    "output_type": "stream", 
                    "name": "stdout", 
                    "text": "/gpfs/global_fs01/sym_shared/YPProdSpark/user/sb1c-2a2fc727357cc3-3b10766cfe3e/notebook/work/City-Data-Science/datasets\n--2018-04-08 17:40:17--  http://archive.ics.uci.edu/ml/machine-learning-databases/20newsgroups-mld/20_newsgroups.tar.gz\nResolving archive.ics.uci.edu (archive.ics.uci.edu)... 128.195.10.249\nConnecting to archive.ics.uci.edu (archive.ics.uci.edu)|128.195.10.249|:80... connected.\nHTTP request sent, awaiting response... 200 OK\nLength: 17332201 (17M) [application/x-gzip]\nSaving to: \u201820_newsgroups.tar.gz.16\u2019\n\n100%[======================================>] 17,332,201  4.65MB/s   in 4.1s   \n\n2018-04-08 17:40:21 (3.98 MB/s) - \u201820_newsgroups.tar.gz.16\u2019 saved [17332201/17332201]\n\n20_newsgroups\t\t 20_newsgroups.tar.gz.14  20_newsgroups.tar.gz.6\n20_newsgroups.tar.gz\t 20_newsgroups.tar.gz.15  20_newsgroups.tar.gz.7\n20_newsgroups.tar.gz.1\t 20_newsgroups.tar.gz.16  20_newsgroups.tar.gz.8\n20_newsgroups.tar.gz.10  20_newsgroups.tar.gz.2   20_newsgroups.tar.gz.9\n20_newsgroups.tar.gz.11  20_newsgroups.tar.gz.3   foodhygiene.zip\n20_newsgroups.tar.gz.12  20_newsgroups.tar.gz.4   lingspam_public\n20_newsgroups.tar.gz.13  20_newsgroups.tar.gz.5   lingspam_public02.tar.gz\n"
                }
            ], 
            "source": "%cd ~/notebook/work/City-Data-Science/datasets/\n!wget http://archive.ics.uci.edu/ml/machine-learning-databases/20newsgroups-mld/20_newsgroups.tar.gz\n!ls"
        }, 
        {
            "execution_count": 11, 
            "cell_type": "code", 
            "metadata": {}, 
            "outputs": [
                {
                    "output_type": "stream", 
                    "name": "stdout", 
                    "text": ">>> Unzipping finished.\n"
                }
            ], 
            "source": "!tar -xf 20_newsgroups.tar.gz\n# '!' calls a program on the machine (the DSX service runs on virtual Linux machines).\nprint(\">>> Unzipping finished.\")"
        }, 
        {
            "execution_count": 12, 
            "cell_type": "code", 
            "metadata": {}, 
            "outputs": [
                {
                    "output_type": "stream", 
                    "name": "stdout", 
                    "text": "/gpfs/global_fs01/sym_shared/YPProdSpark/user/sb1c-2a2fc727357cc3-3b10766cfe3e/notebook/work/City-Data-Science/datasets\r\n"
                }
            ], 
            "source": "!pwd"
        }, 
        {
            "execution_count": 5, 
            "cell_type": "code", 
            "metadata": {}, 
            "outputs": [], 
            "source": "!echo \"datasets/20_newsgroups/**\" >> ~/notebook/work/City-Data-Science/.git/info/exclude\n# add the newly created directory to the list of excluded dirs to prevent accidental uploading to github\n# do this only once"
        }, 
        {
            "execution_count": 13, 
            "cell_type": "code", 
            "metadata": {}, 
            "outputs": [
                {
                    "output_type": "stream", 
                    "name": "stdout", 
                    "text": "/gpfs/global_fs01/sym_shared/YPProdSpark/user/sb1c-2a2fc727357cc3-3b10766cfe3e/notebook/work/City-Data-Science/datasets/20_newsgroups\n\u001b[0m\u001b[01;34malt.atheism\u001b[0m/               \u001b[01;34mrec.autos\u001b[0m/           \u001b[01;34msci.space\u001b[0m/\n\u001b[01;34mcomp.graphics\u001b[0m/             \u001b[01;34mrec.motorcycles\u001b[0m/     \u001b[01;34msoc.religion.christian\u001b[0m/\n\u001b[01;34mcomp.os.ms-windows.misc\u001b[0m/   \u001b[01;34mrec.sport.baseball\u001b[0m/  \u001b[01;34mtalk.politics.guns\u001b[0m/\n\u001b[01;34mcomp.sys.ibm.pc.hardware\u001b[0m/  \u001b[01;34mrec.sport.hockey\u001b[0m/    \u001b[01;34mtalk.politics.mideast\u001b[0m/\n\u001b[01;34mcomp.sys.mac.hardware\u001b[0m/     \u001b[01;34msci.crypt\u001b[0m/           \u001b[01;34mtalk.politics.misc\u001b[0m/\n\u001b[01;34mcomp.windows.x\u001b[0m/            \u001b[01;34msci.electronics\u001b[0m/     \u001b[01;34mtalk.religion.misc\u001b[0m/\n\u001b[01;34mmisc.forsale\u001b[0m/              \u001b[01;34msci.med\u001b[0m/\n"
                }
            ], 
            "source": "%cd 20_newsgroups/ \n# go into the new directory\n%ls # and show its content"
        }, 
        {
            "execution_count": 14, 
            "cell_type": "code", 
            "metadata": {}, 
            "outputs": [
                {
                    "output_type": "stream", 
                    "name": "stdout", 
                    "text": "/gpfs/global_fs01/sym_shared/YPProdSpark/user/sb1c-2a2fc727357cc3-3b10766cfe3e\np:  /gpfs/global_fs01/sym_shared/YPProdSpark/user/sb1c-2a2fc727357cc3-3b10766cfe3e/notebook/work/City-Data-Science/datasets/20_newsgroups\n"
                }, 
                {
                    "ename": "Py4JJavaError", 
                    "evalue": "An error occurred while calling z:org.apache.spark.api.python.PythonRDD.runJob.\n: org.apache.spark.SparkException: Job aborted due to stage failure: Task 0 in stage 4.0 failed 10 times, most recent failure: Lost task 0.9 in stage 4.0 (TID 49, yp-spark-dal09-env5-0025, executor 4db91256-7293-4020-a33f-3d65b78293ef): org.apache.spark.api.python.PythonException: Traceback (most recent call last):\n  File \"/usr/local/src/spark21master/spark-2.1.2-bin-2.7.3/python/lib/pyspark.zip/pyspark/worker.py\", line 160, in main\n    func, profiler, deserializer, serializer = read_command(pickleSer, infile)\n  File \"/usr/local/src/spark21master/spark-2.1.2-bin-2.7.3/python/lib/pyspark.zip/pyspark/worker.py\", line 54, in read_command\n    command = serializer._read_with_length(file)\n  File \"/usr/local/src/spark21master/spark-2.1.2-bin-2.7.3/python/lib/pyspark.zip/pyspark/serializers.py\", line 169, in _read_with_length\n    return self.loads(obj)\n  File \"/usr/local/src/spark21master/spark-2.1.2-bin-2.7.3/python/lib/pyspark.zip/pyspark/serializers.py\", line 455, in loads\n    return pickle.loads(obj, encoding=encoding)\n  File \"/usr/local/src/spark21master/spark-2.1.2-bin-2.7.3/python/lib/pyspark.zip/pyspark/cloudpickle.py\", line 783, in _make_skel_func\n    closure = _reconstruct_closure(closures) if closures else None\n  File \"/usr/local/src/spark21master/spark-2.1.2-bin-2.7.3/python/lib/pyspark.zip/pyspark/cloudpickle.py\", line 775, in _reconstruct_closure\n    return tuple([_make_cell(v) for v in values])\nTypeError: 'int' object is not iterable\n\n\tat org.apache.spark.api.python.PythonRunner$$anon$1.read(PythonRDD.scala:193)\n\tat org.apache.spark.api.python.PythonRunner$$anon$1.<init>(PythonRDD.scala:234)\n\tat org.apache.spark.api.python.PythonRunner.compute(PythonRDD.scala:152)\n\tat org.apache.spark.api.python.PythonRDD.compute(PythonRDD.scala:63)\n\tat org.apache.spark.rdd.RDD.computeOrReadCheckpoint(RDD.scala:326)\n\tat org.apache.spark.rdd.RDD.iterator(RDD.scala:290)\n\tat org.apache.spark.scheduler.ResultTask.runTask(ResultTask.scala:87)\n\tat org.apache.spark.scheduler.Task.run(Task.scala:99)\n\tat org.apache.spark.executor.Executor$TaskRunner.run(Executor.scala:326)\n\tat java.util.concurrent.ThreadPoolExecutor.runWorker(ThreadPoolExecutor.java:1153)\n\tat java.util.concurrent.ThreadPoolExecutor$Worker.run(ThreadPoolExecutor.java:628)\n\tat java.lang.Thread.run(Thread.java:785)\n\nDriver stacktrace:\n\tat org.apache.spark.scheduler.DAGScheduler.org$apache$spark$scheduler$DAGScheduler$$failJobAndIndependentStages(DAGScheduler.scala:1442)\n\tat org.apache.spark.scheduler.DAGScheduler$$anonfun$abortStage$1.apply(DAGScheduler.scala:1430)\n\tat org.apache.spark.scheduler.DAGScheduler$$anonfun$abortStage$1.apply(DAGScheduler.scala:1429)\n\tat scala.collection.mutable.ResizableArray$class.foreach(ResizableArray.scala:59)\n\tat scala.collection.mutable.ArrayBuffer.foreach(ArrayBuffer.scala:48)\n\tat org.apache.spark.scheduler.DAGScheduler.abortStage(DAGScheduler.scala:1429)\n\tat org.apache.spark.scheduler.DAGScheduler$$anonfun$handleTaskSetFailed$1.apply(DAGScheduler.scala:803)\n\tat org.apache.spark.scheduler.DAGScheduler$$anonfun$handleTaskSetFailed$1.apply(DAGScheduler.scala:803)\n\tat scala.Option.foreach(Option.scala:257)\n\tat org.apache.spark.scheduler.DAGScheduler.handleTaskSetFailed(DAGScheduler.scala:803)\n\tat org.apache.spark.scheduler.DAGSchedulerEventProcessLoop.doOnReceive(DAGScheduler.scala:1657)\n\tat org.apache.spark.scheduler.DAGSchedulerEventProcessLoop.onReceive(DAGScheduler.scala:1612)\n\tat org.apache.spark.scheduler.DAGSchedulerEventProcessLoop.onReceive(DAGScheduler.scala:1601)\n\tat org.apache.spark.util.EventLoop$$anon$1.run(EventLoop.scala:48)\n\tat java.lang.Thread.getStackTrace(Thread.java:1117)\n\tat org.apache.spark.scheduler.DAGScheduler.runJob(DAGScheduler.scala:629)\n\tat org.apache.spark.SparkContext.runJob(SparkContext.scala:1941)\n\tat org.apache.spark.SparkContext.runJob(SparkContext.scala:1954)\n\tat org.apache.spark.SparkContext.runJob(SparkContext.scala:1967)\n\tat org.apache.spark.api.python.PythonRDD$.runJob(PythonRDD.scala:441)\n\tat org.apache.spark.api.python.PythonRDD.runJob(PythonRDD.scala)\n\tat sun.reflect.NativeMethodAccessorImpl.invoke0(Native Method)\n\tat sun.reflect.NativeMethodAccessorImpl.invoke(NativeMethodAccessorImpl.java:95)\n\tat sun.reflect.DelegatingMethodAccessorImpl.invoke(DelegatingMethodAccessorImpl.java:55)\n\tat java.lang.reflect.Method.invoke(Method.java:507)\n\tat py4j.reflection.MethodInvoker.invoke(MethodInvoker.java:244)\n\tat py4j.reflection.ReflectionEngine.invoke(ReflectionEngine.java:357)\n\tat py4j.Gateway.invoke(Gateway.java:280)\n\tat py4j.commands.AbstractCommand.invokeMethod(AbstractCommand.java:132)\n\tat py4j.commands.CallCommand.execute(CallCommand.java:79)\n\tat py4j.GatewayConnection.run(GatewayConnection.java:214)\n\tat java.lang.Thread.run(Thread.java:785)\nCaused by: org.apache.spark.api.python.PythonException: Traceback (most recent call last):\n  File \"/usr/local/src/spark21master/spark-2.1.2-bin-2.7.3/python/lib/pyspark.zip/pyspark/worker.py\", line 160, in main\n    func, profiler, deserializer, serializer = read_command(pickleSer, infile)\n  File \"/usr/local/src/spark21master/spark-2.1.2-bin-2.7.3/python/lib/pyspark.zip/pyspark/worker.py\", line 54, in read_command\n    command = serializer._read_with_length(file)\n  File \"/usr/local/src/spark21master/spark-2.1.2-bin-2.7.3/python/lib/pyspark.zip/pyspark/serializers.py\", line 169, in _read_with_length\n    return self.loads(obj)\n  File \"/usr/local/src/spark21master/spark-2.1.2-bin-2.7.3/python/lib/pyspark.zip/pyspark/serializers.py\", line 455, in loads\n    return pickle.loads(obj, encoding=encoding)\n  File \"/usr/local/src/spark21master/spark-2.1.2-bin-2.7.3/python/lib/pyspark.zip/pyspark/cloudpickle.py\", line 783, in _make_skel_func\n    closure = _reconstruct_closure(closures) if closures else None\n  File \"/usr/local/src/spark21master/spark-2.1.2-bin-2.7.3/python/lib/pyspark.zip/pyspark/cloudpickle.py\", line 775, in _reconstruct_closure\n    return tuple([_make_cell(v) for v in values])\nTypeError: 'int' object is not iterable\n\n\tat org.apache.spark.api.python.PythonRunner$$anon$1.read(PythonRDD.scala:193)\n\tat org.apache.spark.api.python.PythonRunner$$anon$1.<init>(PythonRDD.scala:234)\n\tat org.apache.spark.api.python.PythonRunner.compute(PythonRDD.scala:152)\n\tat org.apache.spark.api.python.PythonRDD.compute(PythonRDD.scala:63)\n\tat org.apache.spark.rdd.RDD.computeOrReadCheckpoint(RDD.scala:326)\n\tat org.apache.spark.rdd.RDD.iterator(RDD.scala:290)\n\tat org.apache.spark.scheduler.ResultTask.runTask(ResultTask.scala:87)\n\tat org.apache.spark.scheduler.Task.run(Task.scala:99)\n\tat org.apache.spark.executor.Executor$TaskRunner.run(Executor.scala:326)\n\tat java.util.concurrent.ThreadPoolExecutor.runWorker(ThreadPoolExecutor.java:1153)\n\tat java.util.concurrent.ThreadPoolExecutor$Worker.run(ThreadPoolExecutor.java:628)\n\t... 1 more\n", 
                    "traceback": [
                        "\u001b[0;31m---------------------------------------------------------------------------\u001b[0m", 
                        "\u001b[0;31mPy4JJavaError\u001b[0m                             Traceback (most recent call last)", 
                        "\u001b[0;32m<ipython-input-14-5e1f84ec437a>\u001b[0m in \u001b[0;36m<module>\u001b[0;34m()\u001b[0m\n\u001b[1;32m     30\u001b[0m \u001b[0mcomp_rdd\u001b[0m \u001b[0;34m=\u001b[0m \u001b[0msc\u001b[0m\u001b[0;34m.\u001b[0m\u001b[0mwholeTextFiles\u001b[0m\u001b[0;34m(\u001b[0m\u001b[0mdirPath2\u001b[0m\u001b[0;34m)\u001b[0m\u001b[0;34m\u001b[0m\u001b[0m\n\u001b[1;32m     31\u001b[0m \u001b[0;34m\u001b[0m\u001b[0m\n\u001b[0;32m---> 32\u001b[0;31m \u001b[0malt_rdd\u001b[0m\u001b[0;34m.\u001b[0m\u001b[0mtake\u001b[0m\u001b[0;34m(\u001b[0m\u001b[0;36m1\u001b[0m\u001b[0;34m)\u001b[0m\u001b[0;34m\u001b[0m\u001b[0m\n\u001b[0m\u001b[1;32m     33\u001b[0m \u001b[0mcomp_rdd\u001b[0m\u001b[0;34m.\u001b[0m\u001b[0mtake\u001b[0m\u001b[0;34m(\u001b[0m\u001b[0;36m1\u001b[0m\u001b[0;34m)\u001b[0m\u001b[0;34m\u001b[0m\u001b[0m\n\u001b[1;32m     34\u001b[0m \u001b[0;34m\u001b[0m\u001b[0m\n", 
                        "\u001b[0;32m~/.local/lib/python3.5/site-packages/pyspark/rdd.py\u001b[0m in \u001b[0;36mtake\u001b[0;34m(self, num)\u001b[0m\n\u001b[1;32m   1356\u001b[0m \u001b[0;34m\u001b[0m\u001b[0m\n\u001b[1;32m   1357\u001b[0m             \u001b[0mp\u001b[0m \u001b[0;34m=\u001b[0m \u001b[0mrange\u001b[0m\u001b[0;34m(\u001b[0m\u001b[0mpartsScanned\u001b[0m\u001b[0;34m,\u001b[0m \u001b[0mmin\u001b[0m\u001b[0;34m(\u001b[0m\u001b[0mpartsScanned\u001b[0m \u001b[0;34m+\u001b[0m \u001b[0mnumPartsToTry\u001b[0m\u001b[0;34m,\u001b[0m \u001b[0mtotalParts\u001b[0m\u001b[0;34m)\u001b[0m\u001b[0;34m)\u001b[0m\u001b[0;34m\u001b[0m\u001b[0m\n\u001b[0;32m-> 1358\u001b[0;31m             \u001b[0mres\u001b[0m \u001b[0;34m=\u001b[0m \u001b[0mself\u001b[0m\u001b[0;34m.\u001b[0m\u001b[0mcontext\u001b[0m\u001b[0;34m.\u001b[0m\u001b[0mrunJob\u001b[0m\u001b[0;34m(\u001b[0m\u001b[0mself\u001b[0m\u001b[0;34m,\u001b[0m \u001b[0mtakeUpToNumLeft\u001b[0m\u001b[0;34m,\u001b[0m \u001b[0mp\u001b[0m\u001b[0;34m)\u001b[0m\u001b[0;34m\u001b[0m\u001b[0m\n\u001b[0m\u001b[1;32m   1359\u001b[0m \u001b[0;34m\u001b[0m\u001b[0m\n\u001b[1;32m   1360\u001b[0m             \u001b[0mitems\u001b[0m \u001b[0;34m+=\u001b[0m \u001b[0mres\u001b[0m\u001b[0;34m\u001b[0m\u001b[0m\n", 
                        "\u001b[0;32m~/.local/lib/python3.5/site-packages/pyspark/context.py\u001b[0m in \u001b[0;36mrunJob\u001b[0;34m(self, rdd, partitionFunc, partitions, allowLocal)\u001b[0m\n\u001b[1;32m    999\u001b[0m         \u001b[0;31m# SparkContext#runJob.\u001b[0m\u001b[0;34m\u001b[0m\u001b[0;34m\u001b[0m\u001b[0m\n\u001b[1;32m   1000\u001b[0m         \u001b[0mmappedRDD\u001b[0m \u001b[0;34m=\u001b[0m \u001b[0mrdd\u001b[0m\u001b[0;34m.\u001b[0m\u001b[0mmapPartitions\u001b[0m\u001b[0;34m(\u001b[0m\u001b[0mpartitionFunc\u001b[0m\u001b[0;34m)\u001b[0m\u001b[0;34m\u001b[0m\u001b[0m\n\u001b[0;32m-> 1001\u001b[0;31m         \u001b[0mport\u001b[0m \u001b[0;34m=\u001b[0m \u001b[0mself\u001b[0m\u001b[0;34m.\u001b[0m\u001b[0m_jvm\u001b[0m\u001b[0;34m.\u001b[0m\u001b[0mPythonRDD\u001b[0m\u001b[0;34m.\u001b[0m\u001b[0mrunJob\u001b[0m\u001b[0;34m(\u001b[0m\u001b[0mself\u001b[0m\u001b[0;34m.\u001b[0m\u001b[0m_jsc\u001b[0m\u001b[0;34m.\u001b[0m\u001b[0msc\u001b[0m\u001b[0;34m(\u001b[0m\u001b[0;34m)\u001b[0m\u001b[0;34m,\u001b[0m \u001b[0mmappedRDD\u001b[0m\u001b[0;34m.\u001b[0m\u001b[0m_jrdd\u001b[0m\u001b[0;34m,\u001b[0m \u001b[0mpartitions\u001b[0m\u001b[0;34m)\u001b[0m\u001b[0;34m\u001b[0m\u001b[0m\n\u001b[0m\u001b[1;32m   1002\u001b[0m         \u001b[0;32mreturn\u001b[0m \u001b[0mlist\u001b[0m\u001b[0;34m(\u001b[0m\u001b[0m_load_from_socket\u001b[0m\u001b[0;34m(\u001b[0m\u001b[0mport\u001b[0m\u001b[0;34m,\u001b[0m \u001b[0mmappedRDD\u001b[0m\u001b[0;34m.\u001b[0m\u001b[0m_jrdd_deserializer\u001b[0m\u001b[0;34m)\u001b[0m\u001b[0;34m)\u001b[0m\u001b[0;34m\u001b[0m\u001b[0m\n\u001b[1;32m   1003\u001b[0m \u001b[0;34m\u001b[0m\u001b[0m\n", 
                        "\u001b[0;32m~/.local/lib/python3.5/site-packages/py4j/java_gateway.py\u001b[0m in \u001b[0;36m__call__\u001b[0;34m(self, *args)\u001b[0m\n\u001b[1;32m   1158\u001b[0m         \u001b[0manswer\u001b[0m \u001b[0;34m=\u001b[0m \u001b[0mself\u001b[0m\u001b[0;34m.\u001b[0m\u001b[0mgateway_client\u001b[0m\u001b[0;34m.\u001b[0m\u001b[0msend_command\u001b[0m\u001b[0;34m(\u001b[0m\u001b[0mcommand\u001b[0m\u001b[0;34m)\u001b[0m\u001b[0;34m\u001b[0m\u001b[0m\n\u001b[1;32m   1159\u001b[0m         return_value = get_return_value(\n\u001b[0;32m-> 1160\u001b[0;31m             answer, self.gateway_client, self.target_id, self.name)\n\u001b[0m\u001b[1;32m   1161\u001b[0m \u001b[0;34m\u001b[0m\u001b[0m\n\u001b[1;32m   1162\u001b[0m         \u001b[0;32mfor\u001b[0m \u001b[0mtemp_arg\u001b[0m \u001b[0;32min\u001b[0m \u001b[0mtemp_args\u001b[0m\u001b[0;34m:\u001b[0m\u001b[0;34m\u001b[0m\u001b[0m\n", 
                        "\u001b[0;32m~/.local/lib/python3.5/site-packages/pyspark/sql/utils.py\u001b[0m in \u001b[0;36mdeco\u001b[0;34m(*a, **kw)\u001b[0m\n\u001b[1;32m     61\u001b[0m     \u001b[0;32mdef\u001b[0m \u001b[0mdeco\u001b[0m\u001b[0;34m(\u001b[0m\u001b[0;34m*\u001b[0m\u001b[0ma\u001b[0m\u001b[0;34m,\u001b[0m \u001b[0;34m**\u001b[0m\u001b[0mkw\u001b[0m\u001b[0;34m)\u001b[0m\u001b[0;34m:\u001b[0m\u001b[0;34m\u001b[0m\u001b[0m\n\u001b[1;32m     62\u001b[0m         \u001b[0;32mtry\u001b[0m\u001b[0;34m:\u001b[0m\u001b[0;34m\u001b[0m\u001b[0m\n\u001b[0;32m---> 63\u001b[0;31m             \u001b[0;32mreturn\u001b[0m \u001b[0mf\u001b[0m\u001b[0;34m(\u001b[0m\u001b[0;34m*\u001b[0m\u001b[0ma\u001b[0m\u001b[0;34m,\u001b[0m \u001b[0;34m**\u001b[0m\u001b[0mkw\u001b[0m\u001b[0;34m)\u001b[0m\u001b[0;34m\u001b[0m\u001b[0m\n\u001b[0m\u001b[1;32m     64\u001b[0m         \u001b[0;32mexcept\u001b[0m \u001b[0mpy4j\u001b[0m\u001b[0;34m.\u001b[0m\u001b[0mprotocol\u001b[0m\u001b[0;34m.\u001b[0m\u001b[0mPy4JJavaError\u001b[0m \u001b[0;32mas\u001b[0m \u001b[0me\u001b[0m\u001b[0;34m:\u001b[0m\u001b[0;34m\u001b[0m\u001b[0m\n\u001b[1;32m     65\u001b[0m             \u001b[0ms\u001b[0m \u001b[0;34m=\u001b[0m \u001b[0me\u001b[0m\u001b[0;34m.\u001b[0m\u001b[0mjava_exception\u001b[0m\u001b[0;34m.\u001b[0m\u001b[0mtoString\u001b[0m\u001b[0;34m(\u001b[0m\u001b[0;34m)\u001b[0m\u001b[0;34m\u001b[0m\u001b[0m\n", 
                        "\u001b[0;32m~/.local/lib/python3.5/site-packages/py4j/protocol.py\u001b[0m in \u001b[0;36mget_return_value\u001b[0;34m(answer, gateway_client, target_id, name)\u001b[0m\n\u001b[1;32m    318\u001b[0m                 raise Py4JJavaError(\n\u001b[1;32m    319\u001b[0m                     \u001b[0;34m\"An error occurred while calling {0}{1}{2}.\\n\"\u001b[0m\u001b[0;34m.\u001b[0m\u001b[0;34m\u001b[0m\u001b[0m\n\u001b[0;32m--> 320\u001b[0;31m                     format(target_id, \".\", name), value)\n\u001b[0m\u001b[1;32m    321\u001b[0m             \u001b[0;32melse\u001b[0m\u001b[0;34m:\u001b[0m\u001b[0;34m\u001b[0m\u001b[0m\n\u001b[1;32m    322\u001b[0m                 raise Py4JError(\n", 
                        "\u001b[0;31mPy4JJavaError\u001b[0m: An error occurred while calling z:org.apache.spark.api.python.PythonRDD.runJob.\n: org.apache.spark.SparkException: Job aborted due to stage failure: Task 0 in stage 4.0 failed 10 times, most recent failure: Lost task 0.9 in stage 4.0 (TID 49, yp-spark-dal09-env5-0025, executor 4db91256-7293-4020-a33f-3d65b78293ef): org.apache.spark.api.python.PythonException: Traceback (most recent call last):\n  File \"/usr/local/src/spark21master/spark-2.1.2-bin-2.7.3/python/lib/pyspark.zip/pyspark/worker.py\", line 160, in main\n    func, profiler, deserializer, serializer = read_command(pickleSer, infile)\n  File \"/usr/local/src/spark21master/spark-2.1.2-bin-2.7.3/python/lib/pyspark.zip/pyspark/worker.py\", line 54, in read_command\n    command = serializer._read_with_length(file)\n  File \"/usr/local/src/spark21master/spark-2.1.2-bin-2.7.3/python/lib/pyspark.zip/pyspark/serializers.py\", line 169, in _read_with_length\n    return self.loads(obj)\n  File \"/usr/local/src/spark21master/spark-2.1.2-bin-2.7.3/python/lib/pyspark.zip/pyspark/serializers.py\", line 455, in loads\n    return pickle.loads(obj, encoding=encoding)\n  File \"/usr/local/src/spark21master/spark-2.1.2-bin-2.7.3/python/lib/pyspark.zip/pyspark/cloudpickle.py\", line 783, in _make_skel_func\n    closure = _reconstruct_closure(closures) if closures else None\n  File \"/usr/local/src/spark21master/spark-2.1.2-bin-2.7.3/python/lib/pyspark.zip/pyspark/cloudpickle.py\", line 775, in _reconstruct_closure\n    return tuple([_make_cell(v) for v in values])\nTypeError: 'int' object is not iterable\n\n\tat org.apache.spark.api.python.PythonRunner$$anon$1.read(PythonRDD.scala:193)\n\tat org.apache.spark.api.python.PythonRunner$$anon$1.<init>(PythonRDD.scala:234)\n\tat org.apache.spark.api.python.PythonRunner.compute(PythonRDD.scala:152)\n\tat org.apache.spark.api.python.PythonRDD.compute(PythonRDD.scala:63)\n\tat org.apache.spark.rdd.RDD.computeOrReadCheckpoint(RDD.scala:326)\n\tat org.apache.spark.rdd.RDD.iterator(RDD.scala:290)\n\tat org.apache.spark.scheduler.ResultTask.runTask(ResultTask.scala:87)\n\tat org.apache.spark.scheduler.Task.run(Task.scala:99)\n\tat org.apache.spark.executor.Executor$TaskRunner.run(Executor.scala:326)\n\tat java.util.concurrent.ThreadPoolExecutor.runWorker(ThreadPoolExecutor.java:1153)\n\tat java.util.concurrent.ThreadPoolExecutor$Worker.run(ThreadPoolExecutor.java:628)\n\tat java.lang.Thread.run(Thread.java:785)\n\nDriver stacktrace:\n\tat org.apache.spark.scheduler.DAGScheduler.org$apache$spark$scheduler$DAGScheduler$$failJobAndIndependentStages(DAGScheduler.scala:1442)\n\tat org.apache.spark.scheduler.DAGScheduler$$anonfun$abortStage$1.apply(DAGScheduler.scala:1430)\n\tat org.apache.spark.scheduler.DAGScheduler$$anonfun$abortStage$1.apply(DAGScheduler.scala:1429)\n\tat scala.collection.mutable.ResizableArray$class.foreach(ResizableArray.scala:59)\n\tat scala.collection.mutable.ArrayBuffer.foreach(ArrayBuffer.scala:48)\n\tat org.apache.spark.scheduler.DAGScheduler.abortStage(DAGScheduler.scala:1429)\n\tat org.apache.spark.scheduler.DAGScheduler$$anonfun$handleTaskSetFailed$1.apply(DAGScheduler.scala:803)\n\tat org.apache.spark.scheduler.DAGScheduler$$anonfun$handleTaskSetFailed$1.apply(DAGScheduler.scala:803)\n\tat scala.Option.foreach(Option.scala:257)\n\tat org.apache.spark.scheduler.DAGScheduler.handleTaskSetFailed(DAGScheduler.scala:803)\n\tat org.apache.spark.scheduler.DAGSchedulerEventProcessLoop.doOnReceive(DAGScheduler.scala:1657)\n\tat org.apache.spark.scheduler.DAGSchedulerEventProcessLoop.onReceive(DAGScheduler.scala:1612)\n\tat org.apache.spark.scheduler.DAGSchedulerEventProcessLoop.onReceive(DAGScheduler.scala:1601)\n\tat org.apache.spark.util.EventLoop$$anon$1.run(EventLoop.scala:48)\n\tat java.lang.Thread.getStackTrace(Thread.java:1117)\n\tat org.apache.spark.scheduler.DAGScheduler.runJob(DAGScheduler.scala:629)\n\tat org.apache.spark.SparkContext.runJob(SparkContext.scala:1941)\n\tat org.apache.spark.SparkContext.runJob(SparkContext.scala:1954)\n\tat org.apache.spark.SparkContext.runJob(SparkContext.scala:1967)\n\tat org.apache.spark.api.python.PythonRDD$.runJob(PythonRDD.scala:441)\n\tat org.apache.spark.api.python.PythonRDD.runJob(PythonRDD.scala)\n\tat sun.reflect.NativeMethodAccessorImpl.invoke0(Native Method)\n\tat sun.reflect.NativeMethodAccessorImpl.invoke(NativeMethodAccessorImpl.java:95)\n\tat sun.reflect.DelegatingMethodAccessorImpl.invoke(DelegatingMethodAccessorImpl.java:55)\n\tat java.lang.reflect.Method.invoke(Method.java:507)\n\tat py4j.reflection.MethodInvoker.invoke(MethodInvoker.java:244)\n\tat py4j.reflection.ReflectionEngine.invoke(ReflectionEngine.java:357)\n\tat py4j.Gateway.invoke(Gateway.java:280)\n\tat py4j.commands.AbstractCommand.invokeMethod(AbstractCommand.java:132)\n\tat py4j.commands.CallCommand.execute(CallCommand.java:79)\n\tat py4j.GatewayConnection.run(GatewayConnection.java:214)\n\tat java.lang.Thread.run(Thread.java:785)\nCaused by: org.apache.spark.api.python.PythonException: Traceback (most recent call last):\n  File \"/usr/local/src/spark21master/spark-2.1.2-bin-2.7.3/python/lib/pyspark.zip/pyspark/worker.py\", line 160, in main\n    func, profiler, deserializer, serializer = read_command(pickleSer, infile)\n  File \"/usr/local/src/spark21master/spark-2.1.2-bin-2.7.3/python/lib/pyspark.zip/pyspark/worker.py\", line 54, in read_command\n    command = serializer._read_with_length(file)\n  File \"/usr/local/src/spark21master/spark-2.1.2-bin-2.7.3/python/lib/pyspark.zip/pyspark/serializers.py\", line 169, in _read_with_length\n    return self.loads(obj)\n  File \"/usr/local/src/spark21master/spark-2.1.2-bin-2.7.3/python/lib/pyspark.zip/pyspark/serializers.py\", line 455, in loads\n    return pickle.loads(obj, encoding=encoding)\n  File \"/usr/local/src/spark21master/spark-2.1.2-bin-2.7.3/python/lib/pyspark.zip/pyspark/cloudpickle.py\", line 783, in _make_skel_func\n    closure = _reconstruct_closure(closures) if closures else None\n  File \"/usr/local/src/spark21master/spark-2.1.2-bin-2.7.3/python/lib/pyspark.zip/pyspark/cloudpickle.py\", line 775, in _reconstruct_closure\n    return tuple([_make_cell(v) for v in values])\nTypeError: 'int' object is not iterable\n\n\tat org.apache.spark.api.python.PythonRunner$$anon$1.read(PythonRDD.scala:193)\n\tat org.apache.spark.api.python.PythonRunner$$anon$1.<init>(PythonRDD.scala:234)\n\tat org.apache.spark.api.python.PythonRunner.compute(PythonRDD.scala:152)\n\tat org.apache.spark.api.python.PythonRDD.compute(PythonRDD.scala:63)\n\tat org.apache.spark.rdd.RDD.computeOrReadCheckpoint(RDD.scala:326)\n\tat org.apache.spark.rdd.RDD.iterator(RDD.scala:290)\n\tat org.apache.spark.scheduler.ResultTask.runTask(ResultTask.scala:87)\n\tat org.apache.spark.scheduler.Task.run(Task.scala:99)\n\tat org.apache.spark.executor.Executor$TaskRunner.run(Executor.scala:326)\n\tat java.util.concurrent.ThreadPoolExecutor.runWorker(ThreadPoolExecutor.java:1153)\n\tat java.util.concurrent.ThreadPoolExecutor$Worker.run(ThreadPoolExecutor.java:628)\n\t... 1 more\n"
                    ], 
                    "output_type": "error"
                }
            ], 
            "source": "from pyspark.ml import *\nfrom pyspark.ml.classification import *\nfrom pyspark.ml.feature import *\nfrom pyspark.ml.param import *\nfrom pyspark.ml.tuning import *\nfrom pyspark.ml.evaluation import *\nfrom pyspark.sql import *\nimport pixiedust\nfrom pyspark.sql.types import Row\nfrom pyspark.sql import SQLContext\n\n\nSparkContext.version\n\nsqlContext = SQLContext(sc)\nspark = SparkSession.builder.getOrCreate()\n\nimport os.path\n%cd ~\np = os.path.abspath('./notebook/work/City-Data-Science/datasets/20_newsgroups/')\nprint(\"p: \", p) # we need the path, as the executors that will read the from directories, will not run in the same environment, so that %cd calls don't help\n\n#here we are setting the path to select 2 topics\n#dirPath1 = p + '/alt.atheism'\ndirPath1 = p + '/sci.crypt'\ndirPath2 = p + '/comp.graphics'\n\n# Use wholeTextFiles to read both the files\nalt_rdd = sc.wholeTextFiles(dirPath1)\ncomp_rdd = sc.wholeTextFiles(dirPath2)\n\nalt_rdd.take(1)\ncomp_rdd.take(1)\n\n#Create a union of the 2 RDD's so we hava a full set\nnewsGroup_RDD = alt_rdd.union(comp_rdd)\n\n#printing the total number of documents here:\nprint ('Number of documents read is:',newsGroup_RDD.count())"
        }, 
        {
            "execution_count": 8, 
            "cell_type": "code", 
            "metadata": {}, 
            "outputs": [
                {
                    "output_type": "stream", 
                    "name": "stdout", 
                    "text": "[('alt.atheism', 'Path: cantaloupe.srv.cs.cmu.edu!magnesium.club.cc.cmu.edu!news.sei.cmu.edu!cis.ohio-state.edu!zaphod.mps.ohio-state.edu!howland.reston.ans.net!bogus.sura.net!news-feed-1.peachnet.edu!umn.edu!uum1!mac.cc.macalstr.edu!acooper\\nFrom: acooper@mac.cc.macalstr.edu (Turin Turambar, ME Department of Utter Misery)\\nNewsgroups: alt.atheism\\nSubject: Re: free moral agency\\nMessage-ID: <1993Apr20.185237.4924@mac.cc.macalstr.edu>\\nDate: 20 Apr 93 18:52:37 -0600\\nReferences: <1quuaa$6s@eagle.lerc.nasa.gov> <735295730.25282@minster.york.ac.uk>\\nDistribution: world\\nOrganization: Macalester College\\nLines: 19\\n\\nIn article <735295730.25282@minster.york.ac.uk>, cjhs@minster.york.ac.uk writes:\\n> : Are you saying that their was a physical Adam and Eve, and that all\\n> : humans are direct decendents of only these two human beings.?  Then who\\n> : were Cain and Able\\'s wives?  Couldn\\'t be their sisters, because A&E\\n> : didn\\'t have daughters.  Were they non-humans?\\n> \\n> Genesis 5:4\\n> \\n> and the days of Adam after he begat Seth were eight hundred years, and\\n> he begat sons and daughters:\\n> \\n> Felicitations -- Chris Ho-Stuart\\n\\n\\nIt is still incestuous.... :)\\n\\n\\n\\n--Adam \"What happened to my sig?\"  Cooper\\n'), ('alt.atheism', \"Newsgroups: alt.atheism\\nPath: cantaloupe.srv.cs.cmu.edu!das-news.harvard.edu!noc.near.net!howland.reston.ans.net!agate!apple!mumbo.apple.com!gallant.apple.com!sandvik-kent.apple.com!user\\nFrom: sandvik@newton.apple.com (Kent Sandvik)\\nSubject: Re: some thoughts.\\nSender: news@gallant.apple.com\\nMessage-ID: <sandvik-150493145812@sandvik-kent.apple.com>\\nDate: Thu, 15 Apr 1993 22:00:41 GMT\\nReferences: <bissda.4.734849678@saturn.wwc.edu>\\nOrganization: Cookamunga Tourist Bureau\\nFollowup-To: alt.atheism\\nLines: 24\\n\\nIn article <bissda.4.734849678@saturn.wwc.edu>, bissda@saturn.wwc.edu (DAN\\nLAWRENCE BISSELL) wrote:\\n> \\n> \\tFirst I want to start right out and say that I'm a Christian.  It \\n> makes sense to be one.  Have any of you read Tony Campollo's book- liar, \\n> lunatic, or the real thing?  (I might be a little off on the title, but he \\n> writes the book.  Anyway he was part of an effort to destroy Christianity, \\n> in the process he became a Christian himself.\\n\\nSeems he didn't understand anything about realities, liar, lunatic\\nor the real thing is a very narrow view of the possibilities of Jesus\\nmessage.\\n\\nSigh, it seems religion makes your mind/brain filter out anything\\nthat does not fit into your personal scheme. \\n\\nSo anyone that thinks the possibilities with Jesus is bound to the\\nclassical Lewis notion of 'liar, lunatic or saint' is indeed bound\\nto become a Christian.\\n\\nCheers,\\nKent\\n---\\nsandvik@newton.apple.com. ALink: KSAND -- Private activities on the net.\\n\")]\n"
                }
            ], 
            "source": "#Split the filename and content\n#You can use the splitFileWords function from Lab 3\n#This function will help split the filename and content\n\nimport re \n    \ndef splitFileWords(filenameContent): # your splitting function\n    f,c = filenameContent # split the input tuple  \n    fwLst = [] # the new list for (filename,word) tuples\n    wLst = re.split('\\W+',c) # <<< now create a word list wLst\n    for w in wLst : # iterate through the list\n        fwLst.append((f,w)) # and append (f,w) to the \n    return fwLst #return a list of (f,w) tuples\n\n\n# Remove the file name and path before the last directory name (i.e. the newsgroup name) \nfnt_RDD = newsGroup_RDD.map(lambda ft: (re.split('[/]',ft[0])[-2],ft[1]))\nprint(fnt_RDD.take(2)) "
        }, 
        {
            "source": "## 2) Preprocessing: Remove the headers from the files\n\nAt closer inspection, we can see that the messages have headers, and one of them starts with 'Newsgroups:' and actually lists the topic. This is clearly an unreasonable shortcut for the classifier, as we are interested in predicting topics from the text.  \n\nThus, the dataset needs preprocessing to remove these headers. We can use a regular expression to remove the header. ", 
            "cell_type": "markdown", 
            "metadata": {}
        }, 
        {
            "execution_count": 24, 
            "cell_type": "code", 
            "metadata": {}, 
            "outputs": [
                {
                    "execution_count": 24, 
                    "metadata": {}, 
                    "data": {
                        "text/plain": "[('alt.atheism',\n  'Path: cantaloupe.srv.cs.cmu.edu!magnesium.club.cc.cmu.edu!news.sei.cmu.edu!cis.ohio-state.edu!zaphod.mps.ohio-state.edu!howland.reston.ans.net!bogus.sura.net!news-feed-1.peachnet.edu!umn.edu!uum1!mac.cc.macalstr.edu!acooper\\nFrom: acooper@mac.cc.macalstr.edu (Turin Turambar, ME Department of Utter Misery)\\nNewsgroups: alt.atheism\\nSubject: Re: free moral agency\\nMessage-ID: <1993Apr20.185237.4924@mac.cc.macalstr.edu>\\nDate: 20 Apr 93 18:52:37 -0600\\nReferences: <1quuaa$6s@eagle.lerc.nasa.gov> <735295730.25282@minster.york.ac.uk>\\nDistribution: world\\nOrganization: Macalester College\\nLines: 19\\n\\nIn article <735295730.25282@minster.york.ac.uk>, cjhs@minster.york.ac.uk writes:\\n> : Are you saying that their was a physical Adam and Eve, and that all\\n> : humans are direct decendents of only these two human beings.?  Then who\\n> : were Cain and Able\\'s wives?  Couldn\\'t be their sisters, because A&E\\n> : didn\\'t have daughters.  Were they non-humans?\\n> \\n> Genesis 5:4\\n> \\n> and the days of Adam after he begat Seth were eight hundred years, and\\n> he begat sons and daughters:\\n> \\n> Felicitations -- Chris Ho-Stuart\\n\\n\\nIt is still incestuous.... :)\\n\\n\\n\\n--Adam \"What happened to my sig?\"  Cooper\\n'),\n ('alt.atheism',\n  \"Newsgroups: alt.atheism\\nPath: cantaloupe.srv.cs.cmu.edu!das-news.harvard.edu!noc.near.net!howland.reston.ans.net!agate!apple!mumbo.apple.com!gallant.apple.com!sandvik-kent.apple.com!user\\nFrom: sandvik@newton.apple.com (Kent Sandvik)\\nSubject: Re: some thoughts.\\nSender: news@gallant.apple.com\\nMessage-ID: <sandvik-150493145812@sandvik-kent.apple.com>\\nDate: Thu, 15 Apr 1993 22:00:41 GMT\\nReferences: <bissda.4.734849678@saturn.wwc.edu>\\nOrganization: Cookamunga Tourist Bureau\\nFollowup-To: alt.atheism\\nLines: 24\\n\\nIn article <bissda.4.734849678@saturn.wwc.edu>, bissda@saturn.wwc.edu (DAN\\nLAWRENCE BISSELL) wrote:\\n> \\n> \\tFirst I want to start right out and say that I'm a Christian.  It \\n> makes sense to be one.  Have any of you read Tony Campollo's book- liar, \\n> lunatic, or the real thing?  (I might be a little off on the title, but he \\n> writes the book.  Anyway he was part of an effort to destroy Christianity, \\n> in the process he became a Christian himself.\\n\\nSeems he didn't understand anything about realities, liar, lunatic\\nor the real thing is a very narrow view of the possibilities of Jesus\\nmessage.\\n\\nSigh, it seems religion makes your mind/brain filter out anything\\nthat does not fit into your personal scheme. \\n\\nSo anyone that thinks the possibilities with Jesus is bound to the\\nclassical Lewis notion of 'liar, lunatic or saint' is indeed bound\\nto become a Christian.\\n\\nCheers,\\nKent\\n---\\nsandvik@newton.apple.com. ALink: KSAND -- Private activities on the net.\\n\"),\n ('alt.atheism',\n  'Newsgroups: alt.atheism\\nPath: cantaloupe.srv.cs.cmu.edu!magnesium.club.cc.cmu.edu!news.sei.cmu.edu!cis.ohio-state.edu!zaphod.mps.ohio-state.edu!howland.reston.ans.net!bogus.sura.net!udel!news.intercon.com!psinntp!wrldlnk!usenet\\nFrom: \"Robert Knowles\" <p00261@psilink.com>\\nSubject: Re: Amusing atheists and agnostics\\nIn-Reply-To: <timmbake.735283395@mcl>\\nMessage-ID: <2944427502.2.p00261@psilink.com>\\nSender: usenet@worldlink.com\\nNntp-Posting-Host: 127.0.0.1\\nOrganization: Performance Systems Int\\'l\\nDate: Tue, 20 Apr 1993 23:32:57 GMT\\nX-Mailer: PSILink-DOS (3.3)\\nLines: 17\\n\\n>DATE:   20 Apr 93 05:23:15 GMT\\n>FROM:   Bake Timmons <timmbake@mcl.ucsb.edu>\\n>\\n>>Remember, Koresh \"dried\" for your sins.\\n>>\\n>>And pass that beef jerky.  Umm Umm.\\n>\\n>Though I wasn\\'t there, at least I can rely on you now to keep me posted on what\\n>what he\\'s doing.\\n>\\n\\nWhat\\nA \\nCook\\nOff !\\n\\n\\n')]"
                    }, 
                    "output_type": "execute_result"
                }
            ], 
            "source": "import re\n\n# new function to remove the headers using regular expressions\ndef removeHeader(ft): \n    fn,text = ft # unpack the filename and text content \n    # now use a regular expression to match the text\n    # When you check the data, you can see that the first line that \n    # starts with 'Lines:' normally ends the headers. \n    # Only the very first file is different, but we can tolerate one wrong sample for now. \n    # (How could we be more thorough?)\n#>>> matchObj = re.match()  ..  #fill in the expression here   \n    matchObj = re.match(r'.+^Lines:(.*)', text, re.MULTILINE|re.DOTALL) \n    if(matchObj): # only if the pattern has matched \n        text = matchObj.group(1) # can we replace the text, \n        #otherwise we keep the old for now (what could be a better solution?)\n    return (fn,text)\n\nfnt_RDD2 = fnt_RDD.map(removeHeader)\nfnt_RDD2.take(3)"
        }, 
        {
            "source": "## 3) DataFrames\n\nIn this section we will introduce Dataframes. To read more on DataFrames look here:\nhttps://spark.apache.org/docs/latest/sql-programming-guide.html\n\nIn Spark we can create Datframes from RDDs and that is what we will implement in the next section. \nA dataframe represents a table structure. We defined a schema that contains the names and types of the coumns in the table.\n\nFrom the official documentation:\n\nA Datframe can be created programatically in 3 steps:\n\n- Create an RDD of Rows from the original RDD;\n- Create the schema represented by a StructType matching the structure of Rows in the RDD created in Step 1.\n- Apply the schema to the RDD of Rows via createDataFrame method provided by SparkSession.\n\nMore on pyspark API can be found here:\n\nhttp://spark.apache.org/docs/2.1.0/api/python/pyspark.sql.html\n", 
            "cell_type": "markdown", 
            "metadata": {}
        }, 
        {
            "execution_count": 19, 
            "cell_type": "code", 
            "metadata": {
                "pixiedust": {
                    "displayParams": {
                        "handlerId": "barChart", 
                        "keyFields": "topic"
                    }
                }
            }, 
            "outputs": [
                {
                    "output_type": "display_data", 
                    "data": {
                        "text/html": "<style type=\"text/css\">.pd_warning{display:none;}</style><div class=\"pd_warning\"><em>Hey, there's something awesome here! To see it, open this notebook outside GitHub, in a viewer like Jupyter</em></div>\n        <div class=\"pd_save is-viewer-good\" style=\"padding-right:10px;text-align: center;line-height:initial !important;font-size: xx-large;font-weight: 500;color: coral;\">\n            \n        </div>\n    <div id=\"chartFigure8b28deec\" class=\"pd_save is-viewer-good\" style=\"overflow-x:auto\">\n            \n                    \n                            <center><img style=\"max-width:initial !important\" src=\"data:image/png;base64,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\" class=\"pd_save\"></center>\n                        \n                    \n                \n        </div>", 
                        "text/plain": "<IPython.core.display.HTML object>"
                    }, 
                    "metadata": {}
                }
            ], 
            "source": "from pyspark.sql.types import *\nfrom pyspark.sql import Row\nfrom pyspark.sql import SQLContext\nsqlContext = SQLContext(sc)\n\n# The schema is encoded in a string.\n#Here we are only interested in the topic and text\nschemaString = \"topic text\"\n\n# A StructField object comprises three fields, name (a string), dataType (a DataType) and nullable (a bool). \n# We create 2 fields of strings with names according to our schemaString\nfields = [StructField(field_name, StringType(), True) for field_name in schemaString.split()]\n# these together define our schema\nschema = StructType(fields)\n\nprint(fnt_RDD.take(1))\n# Apply the schema in createDataFrame, to create a DataFrame 'df' from the RDD\ndf = sqlContext.createDataFrame(fnt_RDD, schema)\n\n#print the schema of our DataFrame\ndf.printSchema()\n\n#Use pixiedust to show the number of topics by frequency\n#there are only 2 topics here, so lets see them\ndisplay(df.select('topic'))"
        }, 
        {
            "execution_count": 20, 
            "cell_type": "code", 
            "metadata": {}, 
            "outputs": [
                {
                    "output_type": "stream", 
                    "name": "stdout", 
                    "text": "+-------------+\n|        topic|\n+-------------+\n|comp.graphics|\n|  alt.atheism|\n+-------------+\n\n"
                }
            ], 
            "source": "# Create a (temporary) view using the DataFrame, so that we can us use SparkSQL.\ndf.createOrReplaceTempView(\"newsgroups\")\n\n# SQL can now be run on the DataFrame. \n# Let's start by selecting only the topics elements of each row \nresults = sqlContext.sql(\"SELECT DISTINCT topic FROM newsgroups\")\nresults.show()"
        }, 
        {
            "execution_count": 21, 
            "cell_type": "code", 
            "metadata": {}, 
            "outputs": [
                {
                    "output_type": "stream", 
                    "name": "stdout", 
                    "text": "+-------------+----+\n|        topic| cnt|\n+-------------+----+\n|  alt.atheism|1000|\n|comp.graphics|1000|\n+-------------+----+\n\n"
                }
            ], 
            "source": "# We can make more sophisticated queries in SQL, e.g. using  topic names as a distinct feature and simply count number of files\nresults_topic = sqlContext.sql(\"SELECT DISTINCT topic, count(*) as cnt FROM newsgroups GROUP BY topic ORDER BY cnt DESC\")\nresults_topic.show()"
        }, 
        {
            "source": "We need numeric labels for the classifier, for now we go for binary labels. ", 
            "cell_type": "markdown", 
            "metadata": {}
        }, 
        {
            "execution_count": 22, 
            "cell_type": "code", 
            "metadata": {}, 
            "outputs": [
                {
                    "output_type": "stream", 
                    "name": "stdout", 
                    "text": "+-----------+--------------------+-----+\n|      topic|                text|label|\n+-----------+--------------------+-----+\n|alt.atheism|Path: cantaloupe....|  0.0|\n|alt.atheism|Newsgroups: alt.a...|  0.0|\n|alt.atheism|Newsgroups: alt.a...|  0.0|\n+-----------+--------------------+-----+\nonly showing top 3 rows\n\n+-------------+--------------------+-----+\n|        topic|                text|label|\n+-------------+--------------------+-----+\n|comp.graphics|Newsgroups: comp....|  1.0|\n|comp.graphics|Xref: cantaloupe....|  1.0|\n|comp.graphics|Newsgroups: comp....|  1.0|\n+-------------+--------------------+-----+\nonly showing top 3 rows\n\n"
                }
            ], 
            "source": "# df.withColumn Returns a new DataFrame by adding a column with a name and value for each row.\n# The value is a 'column expression', where we compares with the string 'comp', to find out whether the topic is about computing.\n# double - will convert the resulting Boolean value into a number\nnews_Groups = df.withColumn(\"label\",df.topic.like(\"comp%\").cast(\"double\"))\n\n# you can use a syntax similar to an array to select some examples of either class \nalt_topic_df = news_Groups[df.topic.like(\"alt%\")]\nalt_topic_df.show(3)\n# >>> Do the same for comp% \ncomp_topic_df = news_Groups[df.topic.like(\"comp%\")]\ncomp_topic_df.show(3)"
        }, 
        {
            "execution_count": 23, 
            "cell_type": "code", 
            "metadata": {}, 
            "outputs": [
                {
                    "output_type": "stream", 
                    "name": "stdout", 
                    "text": "Total document count: 2000\nTraining-set count: 1191\nTest-set count: 809\n"
                }
            ], 
            "source": "#Create the training and testing set from the dataframe above\n#randomSplit - splits the Df into training/testing using the weights \n#you can try other combinations of weights\ntrain_set, test_set = news_Groups.randomSplit([0.6, 0.4], 123)\nprint (\"Total document count:\",news_Groups.count())\nprint (\"Training-set count:\",train_set.count())\nprint (\"Test-set count:\",test_set.count())"
        }, 
        {
            "source": "## 4) Using ML to classify messages \n\nML is the Spark machine learning library for DataFrames. We want to build an ML pipeline to predict the Binary label.\n\nA Spark ML Pipeline is a sequence of stages, and each stage is either a Transformer or an Estimator. These stages are run in order, and the input DataFrame is transformed as it passes through each stage.\n\nA practical ML pipeline might consist of many stages like feature extraction, feature transformation, and model fitting. We use  pipeline that consists of the following stages:\n\n    a)RegexTokenizer - which tokenizes each article into a sequence of words with a regex pattern,\n    b)HashingTF, which maps the word sequences produced by RegexTokenizer to sparse feature vectors using the hashing trick,\n    c)LogisticRegression, which fits the feature vectors and the labels from the training data to a logistic regression model.\n    \nTo read more on this:\n\nhttps://spark.apache.org/docs/2.1.0/ml-features.html\n\n", 
            "cell_type": "markdown", 
            "metadata": {}
        }, 
        {
            "execution_count": 26, 
            "cell_type": "code", 
            "metadata": {}, 
            "outputs": [], 
            "source": "from pyspark.ml.linalg import Vector\nfrom pyspark.ml import Pipeline, PipelineModel\nfrom pyspark.ml.classification import LogisticRegression\nfrom pyspark.ml.tuning import ParamGridBuilder, CrossValidator\nfrom pyspark.ml.evaluation import BinaryClassificationEvaluator\nfrom pyspark.ml.feature import HashingTF,StopWordsRemover,IDF,Tokenizer\n\n#Constructing a pipeline\n#We split each sentence into words using Tokenizer. \n#Tokenizer only splits by white spaces\ntokenizer = Tokenizer().setInputCol(\"text\").setOutputCol(\"words\")\n\n#Remove stopwords\nremover= StopWordsRemover().setInputCol(\"words\").setOutputCol(\"filtered\").setCaseSensitive(False)\n\n#For each sentence (bag of words),use HashingTF to hash the sentence into a feature vector. \nhashingTF = HashingTF().setNumFeatures(1000).setInputCol(\"filtered\").setOutputCol(\"rawFeatures\")\n\n#We use IDF to rescale the feature vectors; this generally improves performance when using text as features.\nidf = IDF().setInputCol(\"rawFeatures\").setOutputCol(\"features\").setMinDocFreq(0)\n\n#Our feature vectors could then be passed to a learning algorithm.\n# Create a Logistic regression model\nlr = LogisticRegression()\n#nb = NaiveBayes()\n\n#Then basically we connect all the steps above to create one pipeline\npipeline=Pipeline(stages=[tokenizer,remover,hashingTF,idf, lr])"
        }, 
        {
            "execution_count": 92, 
            "cell_type": "code", 
            "metadata": {}, 
            "outputs": [
                {
                    "output_type": "stream", 
                    "name": "stdout", 
                    "text": "Tokenizer: inputCol: input column name. (current: text)\noutputCol: output column name. (default: Tokenizer_42f0be3eb4c8e2df2abc__output, current: words)\n/n/n\nRemover: caseSensitive: whether to do a case sensitive comparison over the stop words (default: False, current: False)\ninputCol: input column name. (current: words)\noutputCol: output column name. (default: StopWordsRemover_4874a9e0896073939620__output, current: filtered)\nstopWords: The words to be filtered out (default: ['i', 'me', 'my', 'myself', 'we', 'our', 'ours', 'ourselves', 'you', 'your', 'yours', 'yourself', 'yourselves', 'he', 'him', 'his', 'himself', 'she', 'her', 'hers', 'herself', 'it', 'its', 'itself', 'they', 'them', 'their', 'theirs', 'themselves', 'what', 'which', 'who', 'whom', 'this', 'that', 'these', 'those', 'am', 'is', 'are', 'was', 'were', 'be', 'been', 'being', 'have', 'has', 'had', 'having', 'do', 'does', 'did', 'doing', 'a', 'an', 'the', 'and', 'but', 'if', 'or', 'because', 'as', 'until', 'while', 'of', 'at', 'by', 'for', 'with', 'about', 'against', 'between', 'into', 'through', 'during', 'before', 'after', 'above', 'below', 'to', 'from', 'up', 'down', 'in', 'out', 'on', 'off', 'over', 'under', 'again', 'further', 'then', 'once', 'here', 'there', 'when', 'where', 'why', 'how', 'all', 'any', 'both', 'each', 'few', 'more', 'most', 'other', 'some', 'such', 'no', 'nor', 'not', 'only', 'own', 'same', 'so', 'than', 'too', 'very', 's', 't', 'can', 'will', 'just', 'don', 'should', 'now', 'd', 'll', 'm', 'o', 're', 've', 'y', 'ain', 'aren', 'couldn', 'didn', 'doesn', 'hadn', 'hasn', 'haven', 'isn', 'ma', 'mightn', 'mustn', 'needn', 'shan', 'shouldn', 'wasn', 'weren', 'won', 'wouldn'])\n/n/n\nHashingTF: binary: If True, all non zero counts are set to 1. This is useful for discrete probabilistic models that model binary events rather than integer counts. Default False. (default: False)\ninputCol: input column name. (current: filtered)\nnumFeatures: number of features. (default: 262144, current: 1000)\noutputCol: output column name. (default: HashingTF_4a85a7f62489113aae61__output, current: rawFeatures)\n/n/n\nIDF: inputCol: input column name. (current: rawFeatures)\nminDocFreq: minimum number of documents in which a term should appear for filtering (default: 0, current: 0)\noutputCol: output column name. (default: IDF_4d8c8a71263025118e48__output, current: features)\n/n/n\nPipeline: stages: a list of pipeline stages (current: [Tokenizer_44edb325f565f0ae234a, StopWordsRemover_4bc2ab7107aead1e332b, HashingTF_40f9b80b6ea507d75f99, IDF_4d73a5eaecb14fdd4664, LogisticRegression_494cb5d9cb5513547140])\n/n/n\n"
                }
            ], 
            "source": "#We can get an information for each parameter  using the .explainParams()\nprint (\"Tokenizer:\",tokenizer.explainParams())\nprint(\"/n/n\")\n\n#Use the same function as above to get details for Remover, Hashing TF , IDF and Pipeline\n>>>print (\"Remover:\",......)\nprint(\"/n/n\")\n>>>print (\"HashingTF:\",......)\nprint (\"/n/n\")\n>>>print (\"IDF:\",.......)\nprint(\"/n/n\")\n\n>>>print (\"Pipeline:\",.......)\nprint(\"/n/n\")\n"
        }, 
        {
            "execution_count": 93, 
            "cell_type": "code", 
            "metadata": {}, 
            "outputs": [
                {
                    "output_type": "stream", 
                    "name": "stdout", 
                    "text": "CPU times: user 7 \u00b5s, sys: 3 \u00b5s, total: 10 \u00b5s\nWall time: 19.3 \u00b5s\n"
                }
            ], 
            "source": "#Use the pipeline option to fit the training set and create a model\n\n# Jupyter offers a simpler way to take the time thanwe used in the coursework. \n%time\n\n# After we construct this ML pipeline,we can fit it to the training data\n# and obtain a trained pipeline model that can be used for prediction.\nmodel=pipeline.fit(train_set)"
        }, 
        {
            "source": "## 4) Evaluate prediction results", 
            "cell_type": "markdown", 
            "metadata": {}
        }, 
        {
            "execution_count": 94, 
            "cell_type": "code", 
            "metadata": {}, 
            "outputs": [
                {
                    "output_type": "stream", 
                    "name": "stdout", 
                    "text": "+-----------+--------------------+----------+-----+\n|      topic|         probability|prediction|label|\n+-----------+--------------------+----------+-----+\n|alt.atheism|[0.99999999999987...|       0.0|  0.0|\n|alt.atheism|[0.99999933900794...|       0.0|  0.0|\n|alt.atheism|[0.08125659188165...|       1.0|  0.0|\n|alt.atheism|           [1.0,0.0]|       0.0|  0.0|\n|alt.atheism|[4.11055589470913...|       1.0|  0.0|\n+-----------+--------------------+----------+-----+\nonly showing top 5 rows\n\n+-------------+--------------------+----------+-----+\n|        topic|         probability|prediction|label|\n+-------------+--------------------+----------+-----+\n|comp.graphics|[9.23259183148201...|       1.0|  1.0|\n|comp.graphics|[7.01056035665729...|       1.0|  1.0|\n|comp.graphics|[3.41028828737437...|       1.0|  1.0|\n|comp.graphics|[1.63245286744783...|       1.0|  1.0|\n|comp.graphics|[1.56693132031322...|       1.0|  1.0|\n+-------------+--------------------+----------+-----+\nonly showing top 5 rows\n\n"
                }
            ], 
            "source": "#After we obtain a fitted pipeline model, we want to know how well it performs. \n#Let us start with some manual checks by displaying the predicted labels.\n\n#You can simply use the .transform() on the test set to make predictions on the test set\ntest_predictions = model.transform(test_set)\ntrain_predictions = model.transform(train_set)\n\n#Show the predicted labels along with true labels and raw texts.\ntest_predictions.select(\"topic\",\"probability\",\"prediction\",\"label\").show(5)\n# and show some of the other class ...in our case for comp%\n>>> test_predictions.select(\"topic\",\"probability\",\"prediction\",\"label\").filter(..............).show(5)\n"
        }, 
        {
            "execution_count": 95, 
            "cell_type": "code", 
            "metadata": {}, 
            "outputs": [
                {
                    "output_type": "stream", 
                    "name": "stdout", 
                    "text": "Area under ROC curve - training: 1.0\nArea under ROC curve - testing: 0.9627293507890521\n"
                }
            ], 
            "source": "#The predicted labels look accurate. \n#Let's evaluate the model quantitatively.\n\nevaluator = BinaryClassificationEvaluator().setMetricName(\"areaUnderROC\")\nprint (\"Area under ROC curve - training:\",evaluator.evaluate(train_predictions))\nprint (\"Area under ROC curve - testing:\",evaluator.evaluate(test_predictions))"
        }, 
        {
            "source": "The training result is already perfect, the test result is also excellent. So, this task is easy for LogisticRegression. With 20 classes, the task gets harder however. ", 
            "cell_type": "markdown", 
            "metadata": {}
        }, 
        {
            "source": "## Extra Tasks\n\nThese tasks are a bit more involved in terms of programming and ", 
            "cell_type": "markdown", 
            "metadata": {}
        }, 
        {
            "source": "## Multi- class classification\n\nUse all the 20 toics in the dataset as class labels. The reading of the data is straightforward. You will need to use a different mapping from newsgroup names to class labels, though. Then you will need a different evaluation, as the ROC AUC is only defined for the binary case. \n\nThe perfomance will be lower, so that it is worth to try and tune the hyper-parameters. ", 
            "cell_type": "markdown", 
            "metadata": {}
        }, 
        {
            "source": "## Tuning the Hyper-Parameters", 
            "cell_type": "markdown", 
            "metadata": {}
        }, 
        {
            "execution_count": 96, 
            "cell_type": "code", 
            "metadata": {}, 
            "outputs": [], 
            "source": "#We use a ParamGridBuilder to construct a grid of parameters to search over.\n\n#With 3 values for hashingTF.numFeatures and 3 values for idf,\n# this grid will have 3 x 3 = 9 parameter settings for CrossValidator to choose from.\n\nparamGrid = ParamGridBuilder()\\\n    .addGrid(hashingTF.numFeatures,[1000,10000,100000])\\\n    .addGrid(idf.minDocFreq,[0,10,100])\\\n    .build()"
        }, 
        {
            "execution_count": null, 
            "cell_type": "code", 
            "metadata": {}, 
            "outputs": [], 
            "source": "#A CrossValidator requires an Estimator, a set of Estimator ParamMaps, and an Evaluator.\n\ncv = CrossValidator().setEstimator(pipeline).setEvaluator(evaluator).setEstimatorParamMaps(paramGrid).setNumFolds(2)\n# Note: This takes a long time to run\n# Do this step only when you've done everything else first!\n%%time\ncvModel = cv.fit(train_set)\nprint(\"Area under the ROC curve for best fitted model =\",evaluator.evaluate(cvModel.transform(test_set)))"
        }, 
        {
            "execution_count": null, 
            "cell_type": "code", 
            "metadata": {}, 
            "outputs": [], 
            "source": "#Task:\n# After you have run the cell above , print both results (with and without cross validation)\n#Observe the results\n>>> Print results for both \nprint (\"Area under ROC curve for non-tuned model:\",........)  <<< fill in here\nprint (\"Area under ROC curve for fitted model:\",.............) <<< fill in here"
        }, 
        {
            "source": "## PART 2 \n\n\n\n## 7)Analysing XML Data\n\nYou can complete the first section and come to this later on.\n\n\nThese tasks are for working in the lab session and during the week. Unlike previous labs, these tasks do not build on previous labs directly, but use the skills you have learned so far on a new XML dataset. \n\nTo get different datasets, use the link below and once you get the code working for one dataset, you can then try and experiment with the remaing sets.\n\nhttp://ratings.food.gov.uk/open-data/\n\n", 
            "cell_type": "markdown", 
            "metadata": {}
        }, 
        {
            "source": "## 7a)   Using the XML parser\nWe start by reading the dataset into and parsing it using the ElementTree parser. \nThe XML looks like this: \n\n`<FHRSEstablishment>\n    <Header>\n    <ExtractDate>2015-11-06</ExtractDate>\n    <ItemCount>1256</ItemCount>\n    <ReturnCode>Success</ReturnCode>\n    </Header>\n    <EstablishmentCollection>\n        <EstablishmentDetail>\n        <FHRSID>507136</FHRSID>\n        <LocalAuthorityBusinessID>PI/000081182</LocalAuthorityBusinessID>\n        <BusinessName>196</BusinessName>\n        <BusinessType>Restaurant/Cafe/Canteen</BusinessType>\n        <BusinessTypeID>1</BusinessTypeID>\n        <AddressLine1>Cambridge</AddressLine1>\n        <AddressLine2>Cambridgeshire</AddressLine2>\n        <PostCode>CB1 3NF</PostCode>\n        <RatingValue>5</RatingValue>\n        <RatingKey>fhrs_5_en-GB</RatingKey>\n        <RatingDate>2015-01-22</RatingDate>\n        <LocalAuthorityCode>027</LocalAuthorityCode>\n        <LocalAuthorityName>Cambridge City</LocalAuthorityName>\n            <LocalAuthorityWebSite>http://www.cambridge.gov.uk</LocalAuthorityWebSite>\n            <LocalAuthorityEmailAddress>env.health@cambridge.gov.uk</LocalAuthorityEmailAddress>\n        <Scores>\n            <Hygiene>5</Hygiene>\n            <Structural>0</Structural>\n            <ConfidenceInManagement>5</ConfidenceInManagement>\n        </Scores>\n        <SchemeType>FHRS</SchemeType>\n        <NewRatingPending>False</NewRatingPending>\n        <Geocode>\n            <Longitude>0.14503300000000</Longitude>\n            <Latitude>52.19734500000000</Latitude>\n        </Geocode>\n    </EstablishmentDetail>`\n    ", 
            "cell_type": "markdown", 
            "metadata": {}
        }, 
        {
            "source": "## 8) Get the XML Data\n\n\nThe predefined `parseXML` function creates an XML parse tree for you. Start creating an RDD that contains just the parse trees instead of text. Then filter out the files that could not be parsed.\n \nWe provide the code for using ElementTree, but it's worth having a look for more info here: [https://docs.python.org/3.5/library/xml.etree.elementtree.html](https://docs.python.org/3.5/library/xml.etree.elementtree.html).\n\n\n\n", 
            "cell_type": "markdown", 
            "metadata": {}
        }, 
        {
            "execution_count": 60, 
            "cell_type": "code", 
            "metadata": {}, 
            "outputs": [
                {
                    "output_type": "stream", 
                    "name": "stdout", 
                    "text": "/gpfs/global_fs01/sym_shared/YPProdSpark/user/s832-dfe96c6e1f1d61-70d619a53771/notebook/work\nfatal: destination path 'City-Data-Science' already exists and is not an empty directory.\r\n"
                }
            ], 
            "source": "#Get the data\n\n%cd ~/notebook/work/City-Data-Science/\n!git clone https://github.com/tweyde/City-Data-Science.git\n"
        }, 
        {
            "execution_count": 62, 
            "cell_type": "code", 
            "metadata": {}, 
            "outputs": [
                {
                    "output_type": "stream", 
                    "name": "stdout", 
                    "text": "remote: Counting objects: 6, done.\u001b[K\nremote: Total 6 (delta 2), reused 2 (delta 2), pack-reused 4\u001b[K\nUnpacking objects: 100% (6/6), done.\nFrom https://github.com/tweyde/City-Data-Science\n   ddd2162..5593edd  master     -> origin/master\nUpdating ddd2162..5593edd\nFast-forward\n datasets/foodhygiene.zip | Bin 0 -> 31777575 bytes\n 1 file changed, 0 insertions(+), 0 deletions(-)\n create mode 100644 datasets/foodhygiene.zip\n/gpfs/global_fs01/sym_shared/YPProdSpark/user/s832-dfe96c6e1f1d61-70d619a53771/notebook/work/City-Data-Science/datasets\n\u001b[0m\u001b[01;34m20_newsgroups\u001b[0m/        20_newsgroups.tar.gz.1  \u001b[01;34mlingspam_public\u001b[0m/\n20_newsgroups.tar.gz  foodhygiene.zip         lingspam_public02.tar.gz\n"
                }
            ], 
            "source": "!git pull\n%cd datasets/\n%ls"
        }, 
        {
            "execution_count": 69, 
            "cell_type": "code", 
            "metadata": {}, 
            "outputs": [
                {
                    "output_type": "stream", 
                    "name": "stdout", 
                    "text": "\u001b[0m\u001b[01;34m20_newsgroups\u001b[0m/          \u001b[01;34mfoodhygiene\u001b[0m/      lingspam_public02.tar.gz\r\n20_newsgroups.tar.gz    foodhygiene.zip\r\n20_newsgroups.tar.gz.1  \u001b[01;34mlingspam_public\u001b[0m/\r\n"
                }
            ], 
            "source": "!rm -R foodhygiene\n!unzip -q foodhygiene.zip\n%ls\n!echo \"datasets/foodhygiene/**\" >> ~/notebook/work/City-Data-Science/.git/info/exclude\n# add the newly created directory to the list of excluded dirs to prevent accidental uploading to github\n# do this only once"
        }, 
        {
            "execution_count": 71, 
            "cell_type": "code", 
            "metadata": {}, 
            "outputs": [
                {
                    "output_type": "stream", 
                    "name": "stdout", 
                    "text": "/gpfs/global_fs01/sym_shared/YPProdSpark/user/s832-dfe96c6e1f1d61-70d619a53771\n[('file:/gpfs/global_fs01/sym_shared/YPProdSpark/user/s832-dfe96c6e1f1d61-70d619a53771/notebook/work/City-Data-Science/datasets/foodhygiene/FHRS524en-GB.xml', <Element 'FHRSEstablishment' at 0x7f52b5fd2f48>)]\n"
                }
            ], 
            "source": "import xml.etree.ElementTree as ET\n\ndef parseXML(f_x):\n    try:\n        root = ET.fromstring(f_x[1])\n    except ET.ParseError as err:\n        # parsing error :-(\n        root = None\n    return (f_x[0], root)\n\n%cd ~\np = os.path.abspath('./notebook/work/City-Data-Science/datasets/foodhygiene')\nrawData = sc.wholeTextFiles(p)\nparsedData = rawData.map(lambda ........) #<<<< map to XML parse trees\nparsedData = parsedData.filter(lambda .......) #<<< filter out items where the parse tree is `None`\nprint(parsedData.take(1)) "
        }, 
        {
            "source": "## 9) Find establishements with valid hygiene ratings\n\nFind all the possible RatingValue elements. For that we use the ElementTree function `findall`. We use a syntax called XPath, which enables us to find elements lower down in the tree without explicitly traversing it. The XPath syntax ist shown here: [https://docs.python.org/3.5/library/xml.etree.elementtree.html?highlight=elementtree#supported-xpath-syntax](https://docs.python.org/3.5/library/xml.etree.elementtree.html?highlight=elementtree#supported-xpath-syntax)\n\nFor finding the rating values, use `element.findall('.//RatingValue')` where element shoudl be the root of a parse tree. This gives a list of XML elements `x`, where we are interested in their `x.text` property.", 
            "cell_type": "markdown", 
            "metadata": {}
        }, 
        {
            "execution_count": 72, 
            "cell_type": "code", 
            "metadata": {}, 
            "outputs": [
                {
                    "execution_count": 72, 
                    "metadata": {}, 
                    "data": {
                        "text/plain": "['4',\n '1',\n 'Pass',\n 'Pass and Eat Safe',\n 'Awaiting Inspection',\n '0',\n 'AwaitingPublication',\n 'Improvement Required',\n 'AwaitingInspection',\n 'Exempt',\n '5',\n '3',\n '2']"
                    }, 
                    "output_type": "execute_result"
                }
            ], 
            "source": "allRatings = parsedData.flatMap(lambda f_et: [x.text for x in f_et[1].findall('.//RatingValue')]).distinct() #<<< find distnct values\nallRatings.collect()"
        }, 
        {
            "source": "## 10) Remove non-numeric ratings\n\nNow we want to get rid of the non-numeric ratings. These should be:\n\n    invalidRatings = ['Pass','Pass and Eat Safe','Awaiting Inspection','AwaitingPublication','Improvement Required','AwaitingInspection','Exempt']\n    \n    \nFirst collect all XML elements tagged EstablishmentDetail (with finall as before), but keep the elements for further use (i.e. don't extract the text element as above).\n", 
            "cell_type": "markdown", 
            "metadata": {}
        }, 
        {
            "execution_count": 73, 
            "cell_type": "code", 
            "metadata": {}, 
            "outputs": [
                {
                    "output_type": "stream", 
                    "name": "stdout", 
                    "text": "497835\n411554\n"
                }
            ], 
            "source": "invalidRatings = ['Pass','Pass and Eat Safe','Awaiting Inspection','AwaitingPublication','Improvement Required','AwaitingInspection','Exempt']\n\nallEstData = parsedData.flatMap(lambda f_et: f_et[1].findall('.//EstablishmentDetail')) #<<< get the establishment detail\nprint(allEstData.count()) # should be 497835\n\nestData = allEstData.filter(lambda est: est.find('RatingValue').text not in invalidRatings)\nprint(estData.count()) # should be 411554"
        }, 
        {
            "source": "## 11) Find highest and lowest values\n\nFind the 10 local authorities with the highest and lowest mean hygiene rating. We now use find as there is only one local authority per establishment, which we use as key. We then get the RatingValue and average (not in reduce, so associativity is not required here).", 
            "cell_type": "markdown", 
            "metadata": {}
        }, 
        {
            "execution_count": null, 
            "cell_type": "code", 
            "metadata": {}, 
            "outputs": [], 
            "source": "from operator import add\n\nimport numpy as np\nauthRatings = estData.map(lambda est: \n    (est.find('LocalAuthorityName').text, \n    [float(est.find('RatingValue').text)])).reduceByKey(add).map(lambda a_rl: (a_rl[0], np.mean(a_rl[1])))\n\nauthRatings.... # using RDD.sortBy() get the 10 highest \nauthRatings.... # using RDD.sortBy() get the 10 lowest \n\n"
        }, 
        {
            "source": "## 12) Organise by PostCode\nUse the first part of the PostCode node (i.e. for IP7 5BY, only use IP7) to find the best and worse postcodes for food hygiene.\n", 
            "cell_type": "markdown", 
            "metadata": {}
        }, 
        {
            "execution_count": 86, 
            "cell_type": "code", 
            "metadata": {}, 
            "outputs": [
                {
                    "output_type": "stream", 
                    "name": "stdout", 
                    "text": "[('WF2 7EQ', 5.0), ('HD1 6EE', 5.0), ('DH1 5TU', 5.0), ('EX5 4AS', 5.0), ('LL55 3LP', 5.0), ('SO14 0DA', 5.0), ('WA14 1RU', 5.0), ('BT56 8EW', 5.0), ('TN32 5XF', 5.0), ('WC1X 8LR', 5.0)]\n[('W1U 4AP', 0.0), ('BB5 4JT', 0.0), ('WF13 4DJ', 0.0), ('SK1 3EH', 0.0), ('BL9 7AY', 0.0), ('CH41 2UW', 0.0), ('SN2 1QR', 0.0), ('DT10 2BS', 0.0), ('SN5 5PD', 0.0), ('HU5 5JR', 0.0)]\n"
                }
            ], 
            "source": "authRatings = estData.map(lambda est: \n    # organize by PostCode instead of LocalAuthority\n    (0 if est.find('PostCode') is None else est.find('PostCode').text, \n    [float(est.find('RatingValue').text)])).reduceByKey(add).map(lambda a_rl: (a_rl[0], np.mean(a_rl[1])))\n# output as above\n>>>\n>>>"
        }, 
        {
            "source": "## 13) Organise by Type\n\nUse the BusinessType or BusinessTypeID nodes to discover and consolidate all business types. Find the 10 best and worse rated business types for the entire UK, per local authority and per postcode using your consolidated categories", 
            "cell_type": "markdown", 
            "metadata": {}
        }, 
        {
            "execution_count": 89, 
            "cell_type": "code", 
            "metadata": {}, 
            "outputs": [
                {
                    "output_type": "stream", 
                    "name": "stdout", 
                    "text": "[('School/college/university', 4.808328845808652), ('Hospitals/Childcare/Caring Premises', 4.7188041594454075), ('Farmers/growers', 4.609657947686117), ('Other catering premises', 4.6071905775226405), ('Retailers - supermarkets/hypermarkets', 4.583096085409252), ('Hotel/bed & breakfast/guest house', 4.530760695351991), ('Mobile caterer', 4.482452707110242), ('Manufacturers/packers', 4.470830070477682), ('Distributors/Transporters', 4.455373406193078), ('Importers/Exporters', 4.311475409836065)]\n[('Takeaway/sandwich shop', 3.7914874651810586), ('Retailers - other', 4.155244145840947), ('Pub/bar/nightclub', 4.219805857601133), ('Restaurant/Cafe/Canteen', 4.247219035792088), ('Importers/Exporters', 4.311475409836065), ('Distributors/Transporters', 4.455373406193078), ('Manufacturers/packers', 4.470830070477682), ('Mobile caterer', 4.482452707110242), ('Hotel/bed & breakfast/guest house', 4.530760695351991), ('Retailers - supermarkets/hypermarkets', 4.583096085409252)]\n"
                }
            ], 
            "source": "authRatings = estData.map(lambda est: \n    # organize by BusinessType instead of LocalAuthority\n    (0 if est.find('BusinessType') is None else est.find('BusinessType').text, \n    [float(est.find('RatingValue').text)])).reduceByKey(add).map(lambda a_rl: (a_rl[0], np.mean(a_rl[1])))\n# ouput as above\n>>>\n>>>"
        }, 
        {
            "source": "## 14) Web Scraping with an HTML parser\n\nThis is the scraper that was used to get the food hygiene data. This uses some programming techniques, we haven't covered. However, if you have some time, this is an interesting topic to look into, as the web is an boundless source of data. ", 
            "cell_type": "markdown", 
            "metadata": {}
        }, 
        {
            "execution_count": null, 
            "cell_type": "code", 
            "metadata": {}, 
            "outputs": [], 
            "source": "#This is a code to scrape data from the web page. You can use this for future use \n#You do not have to run this today\n#This will take a *long* time\n\nimport urllib.request\nfrom html.parser import HTMLParser\n\nclass MyHTMLParser(HTMLParser): # created a \n    links = None\n    def handle_starttag(self, tag, attrs):\n        if self.links is None:\n            self.links = []\n        if tag == 'a':\n            href = None\n            for k,v in attrs: # keys and values of the tag attributes\n                if k == 'href': # if the key is 'href'\n                    href = v # we are interested in its value\n            if href is not None: # if there is a link\n                if href.endswith('en-GB.xml'): # and it is the type that we expect\n                    self.links.append(href) # then add to our list of links\n\nf = urllib.request.urlopen(\"http://ratings.food.gov.uk/open-data/en-GB\") # the ratings site\n\nparser = MyHTMLParser() # initiate our parser\nparser.feed(str(f.read())) # read from the URL\nfor l in parser.links: # get the collected links\n    fname = l.split('/') # split them\n    fname = fname[-1]    # get filename\n    print('downloading %s' % fname) # print a message\n    urllib.request.urlretrieve(l, fname) # and get the file\n"
        }
    ], 
    "metadata": {
        "kernelspec": {
            "display_name": "Python 3.5 with Spark 2.1", 
            "name": "python3-spark21", 
            "language": "python"
        }, 
        "language_info": {
            "mimetype": "text/x-python", 
            "nbconvert_exporter": "python", 
            "version": "3.5.4", 
            "name": "python", 
            "file_extension": ".py", 
            "pygments_lexer": "ipython3", 
            "codemirror_mode": {
                "version": 3, 
                "name": "ipython"
            }
        }
    }, 
    "nbformat": 4
}