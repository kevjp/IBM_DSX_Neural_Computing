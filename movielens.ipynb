{
    "nbformat_minor": 2, 
    "cells": [
        {
            "execution_count": 1, 
            "cell_type": "code", 
            "metadata": {}, 
            "outputs": [
                {
                    "output_type": "stream", 
                    "name": "stdout", 
                    "text": "absolute path:  /home/enterprise.internal.city.ac.uk/acvn470/bigdata/coursework\n"
                }
            ], 
            "source": "import os.path\n!cd ~/bigdata/coursework/\nfilepath = os.path.abspath('.')\nprint(\"absolute path: \",filepath)"
        }, 
        {
            "execution_count": 11, 
            "cell_type": "code", 
            "metadata": {}, 
            "outputs": [
                {
                    "output_type": "stream", 
                    "name": "stdout", 
                    "text": "--2018-04-01 12:19:31--  http://saltdean.nsqdc.city.ac.uk:50070/webhdfs/v1/data/movielens/ml-20m/README.txt?op=OPEN\nResolving saltdean.nsqdc.city.ac.uk (saltdean.nsqdc.city.ac.uk)... 10.207.1.106\nConnecting to saltdean.nsqdc.city.ac.uk (saltdean.nsqdc.city.ac.uk)|10.207.1.106|:50070... connected.\nHTTP request sent, awaiting response... 307 TEMPORARY_REDIRECT\nLocation: http://seaford.nsqdc.city.ac.uk:50075/webhdfs/v1/data/movielens/ml-20m/README.txt?op=OPEN&namenoderpcaddress=saltdean.nsqdc.city.ac.uk:8020&offset=0 [following]\n--2018-04-01 12:19:31--  http://seaford.nsqdc.city.ac.uk:50075/webhdfs/v1/data/movielens/ml-20m/README.txt?op=OPEN&namenoderpcaddress=saltdean.nsqdc.city.ac.uk:8020&offset=0\nResolving seaford.nsqdc.city.ac.uk (seaford.nsqdc.city.ac.uk)... 10.207.1.85\nConnecting to seaford.nsqdc.city.ac.uk (seaford.nsqdc.city.ac.uk)|10.207.1.85|:50075... connected.\nHTTP request sent, awaiting response... 200 OK\nLength: 10261 (10K) [application/octet-stream]\nSaving to: \u2018README.txt\u2019\n\nREADME.txt          100%[===================>]  10.02K  --.-KB/s    in 0.003s  \n\n2018-04-01 12:19:31 (2.82 MB/s) - \u2018README.txt\u2019 saved [10261/10261]\n\n--2018-04-01 12:19:31--  http://saltdean.nsqdc.city.ac.uk:50070/webhdfs/v1/data/movielens/ml-20m/links.csv?op=OPEN\nResolving saltdean.nsqdc.city.ac.uk (saltdean.nsqdc.city.ac.uk)... 10.207.1.106\nConnecting to saltdean.nsqdc.city.ac.uk (saltdean.nsqdc.city.ac.uk)|10.207.1.106|:50070... connected.\nHTTP request sent, awaiting response... 307 TEMPORARY_REDIRECT\nLocation: http://seaford.nsqdc.city.ac.uk:50075/webhdfs/v1/data/movielens/ml-20m/links.csv?op=OPEN&namenoderpcaddress=saltdean.nsqdc.city.ac.uk:8020&offset=0 [following]\n--2018-04-01 12:19:31--  http://seaford.nsqdc.city.ac.uk:50075/webhdfs/v1/data/movielens/ml-20m/links.csv?op=OPEN&namenoderpcaddress=saltdean.nsqdc.city.ac.uk:8020&offset=0\nResolving seaford.nsqdc.city.ac.uk (seaford.nsqdc.city.ac.uk)... 10.207.1.85\nConnecting to seaford.nsqdc.city.ac.uk (seaford.nsqdc.city.ac.uk)|10.207.1.85|:50075... connected.\nHTTP request sent, awaiting response... 200 OK\nLength: 570090 (557K) [application/octet-stream]\nSaving to: \u2018links.csv\u2019\n\nlinks.csv           100%[===================>] 556.73K  --.-KB/s    in 0.004s  \n\n2018-04-01 12:19:31 (132 MB/s) - \u2018links.csv\u2019 saved [570090/570090]\n\n--2018-04-01 12:19:32--  http://saltdean.nsqdc.city.ac.uk:50070/webhdfs/v1/data/movielens/ml-20m/movies.csv?op=OPEN\nResolving saltdean.nsqdc.city.ac.uk (saltdean.nsqdc.city.ac.uk)... 10.207.1.106\nConnecting to saltdean.nsqdc.city.ac.uk (saltdean.nsqdc.city.ac.uk)|10.207.1.106|:50070... connected.\nHTTP request sent, awaiting response... 307 TEMPORARY_REDIRECT\nLocation: http://seaford.nsqdc.city.ac.uk:50075/webhdfs/v1/data/movielens/ml-20m/movies.csv?op=OPEN&namenoderpcaddress=saltdean.nsqdc.city.ac.uk:8020&offset=0 [following]\n--2018-04-01 12:19:32--  http://seaford.nsqdc.city.ac.uk:50075/webhdfs/v1/data/movielens/ml-20m/movies.csv?op=OPEN&namenoderpcaddress=saltdean.nsqdc.city.ac.uk:8020&offset=0\nResolving seaford.nsqdc.city.ac.uk (seaford.nsqdc.city.ac.uk)... 10.207.1.85\nConnecting to seaford.nsqdc.city.ac.uk (seaford.nsqdc.city.ac.uk)|10.207.1.85|:50075... connected.\nHTTP request sent, awaiting response... 200 OK\nLength: 1397542 (1.3M) [application/octet-stream]\nSaving to: \u2018movies.csv\u2019\n\nmovies.csv          100%[===================>]   1.33M  --.-KB/s    in 0.005s  \n\n2018-04-01 12:19:32 (265 MB/s) - \u2018movies.csv\u2019 saved [1397542/1397542]\n\n--2018-04-01 12:19:32--  http://saltdean.nsqdc.city.ac.uk:50070/webhdfs/v1/data/movielens/ml-20m/ratings.csv?op=OPEN\nResolving saltdean.nsqdc.city.ac.uk (saltdean.nsqdc.city.ac.uk)... 10.207.1.106\nConnecting to saltdean.nsqdc.city.ac.uk (saltdean.nsqdc.city.ac.uk)|10.207.1.106|:50070... connected.\nHTTP request sent, awaiting response... 307 TEMPORARY_REDIRECT\nLocation: http://seaford.nsqdc.city.ac.uk:50075/webhdfs/v1/data/movielens/ml-20m/ratings.csv?op=OPEN&namenoderpcaddress=saltdean.nsqdc.city.ac.uk:8020&offset=0 [following]\n--2018-04-01 12:19:32--  http://seaford.nsqdc.city.ac.uk:50075/webhdfs/v1/data/movielens/ml-20m/ratings.csv?op=OPEN&namenoderpcaddress=saltdean.nsqdc.city.ac.uk:8020&offset=0\nResolving seaford.nsqdc.city.ac.uk (seaford.nsqdc.city.ac.uk)... 10.207.1.85\nConnecting to seaford.nsqdc.city.ac.uk (seaford.nsqdc.city.ac.uk)|10.207.1.85|:50075... connected.\nHTTP request sent, awaiting response... 200 OK\nLength: 533444411 (509M) [application/octet-stream]\nSaving to: \u2018ratings.csv\u2019\n\nratings.csv         100%[===================>] 508.73M   457MB/s    in 1.1s    \n\n2018-04-01 12:19:33 (457 MB/s) - \u2018ratings.csv\u2019 saved [533444411/533444411]\n\n--2018-04-01 12:19:38--  http://saltdean.nsqdc.city.ac.uk:50070/webhdfs/v1/data/movielens/ml-20m/tags.csv?op=OPEN\nResolving saltdean.nsqdc.city.ac.uk (saltdean.nsqdc.city.ac.uk)... 10.207.1.106\nConnecting to saltdean.nsqdc.city.ac.uk (saltdean.nsqdc.city.ac.uk)|10.207.1.106|:50070... connected.\nHTTP request sent, awaiting response... 307 TEMPORARY_REDIRECT\nLocation: http://seaford.nsqdc.city.ac.uk:50075/webhdfs/v1/data/movielens/ml-20m/tags.csv?op=OPEN&namenoderpcaddress=saltdean.nsqdc.city.ac.uk:8020&offset=0 [following]\n--2018-04-01 12:19:38--  http://seaford.nsqdc.city.ac.uk:50075/webhdfs/v1/data/movielens/ml-20m/tags.csv?op=OPEN&namenoderpcaddress=saltdean.nsqdc.city.ac.uk:8020&offset=0\nResolving seaford.nsqdc.city.ac.uk (seaford.nsqdc.city.ac.uk)... 10.207.1.85\nConnecting to seaford.nsqdc.city.ac.uk (seaford.nsqdc.city.ac.uk)|10.207.1.85|:50075... connected.\nHTTP request sent, awaiting response... 200 OK\nLength: 16603996 (16M) [application/octet-stream]\nSaving to: \u2018tags.csv\u2019\n\ntags.csv            100%[===================>]  15.83M  --.-KB/s    in 0.05s   \n\n2018-04-01 12:19:38 (318 MB/s) - \u2018tags.csv\u2019 saved [16603996/16603996]\n\ntotal 539120\n-rw-r--r-- 1 acvn470 domain users      6249 Aug 18  2016 explorer.html\n-rw-r--r-- 1 acvn470 domain users    570090 Apr  1 12:19 links.csv\n-rw-r--r-- 1 acvn470 domain users      9006 Apr  1 12:18 movielens.ipynb\n-rw-r--r-- 1 acvn470 domain users   1397542 Apr  1 12:19 movies.csv\n-rw-r--r-- 1 acvn470 domain users 533444411 Apr  1 12:19 ratings.csv\n-rw-r--r-- 1 acvn470 domain users     10261 Apr  1 12:19 README.txt\n-rw-r--r-- 1 acvn470 domain users  16603996 Apr  1 12:19 tags.csv\n"
                }
            ], 
            "source": "#Load files from HDFS\n!wget http://saltdean.nsqdc.city.ac.uk:50070/webhdfs/v1/data/movielens/ml-20m/README.txt?op=OPEN -O README.txt\n!wget http://saltdean.nsqdc.city.ac.uk:50070/webhdfs/v1/data/movielens/ml-20m/links.csv?op=OPEN -O links.csv\n!wget http://saltdean.nsqdc.city.ac.uk:50070/webhdfs/v1/data/movielens/ml-20m/movies.csv?op=OPEN -O movies.csv\n!wget http://saltdean.nsqdc.city.ac.uk:50070/webhdfs/v1/data/movielens/ml-20m/ratings.csv?op=OPEN -O ratings.csv\n!wget http://saltdean.nsqdc.city.ac.uk:50070/webhdfs/v1/data/movielens/ml-20m/tags.csv?op=OPEN -O tags.csv\n! ls -l"
        }, 
        {
            "execution_count": 2, 
            "cell_type": "code", 
            "metadata": {}, 
            "outputs": [
                {
                    "output_type": "stream", 
                    "name": "stdout", 
                    "text": "/home/enterprise.internal.city.ac.uk/acvn470/bigdata/coursework\r\n"
                }
            ], 
            "source": "!pwd\n"
        }, 
        {
            "execution_count": 1, 
            "cell_type": "code", 
            "metadata": {}, 
            "outputs": [
                {
                    "output_type": "stream", 
                    "name": "stdout", 
                    "text": "Pixiedust database opened successfully\n"
                }, 
                {
                    "output_type": "display_data", 
                    "data": {
                        "text/html": "\n        <div style=\"margin:10px\">\n            <a href=\"https://github.com/ibm-watson-data-lab/pixiedust\" target=\"_new\">\n                <img src=\"https://github.com/ibm-watson-data-lab/pixiedust/raw/master/docs/_static/pd_icon32.png\" style=\"float:left;margin-right:10px\"/>\n            </a>\n            <span>Pixiedust version 1.1.9</span>\n        </div>\n        ", 
                        "text/plain": "<IPython.core.display.HTML object>"
                    }, 
                    "metadata": {}
                }
            ], 
            "source": "from pyspark.ml import *\n#from pyspark.ml.classification import *\nfrom pyspark.ml.feature import *\nfrom pyspark.ml.param import *\nfrom pyspark.ml.tuning import *\nfrom pyspark.ml.evaluation import *\nfrom pyspark.sql import *\nimport pixiedust\nfrom pyspark.sql.types import Row\nfrom pyspark.sql import SQLContext\nsc = SparkContext.getOrCreate()\nsqlContext = SQLContext(sc)\nspark = SparkSession.builder.getOrCreate()\n"
        }, 
        {
            "execution_count": 2, 
            "cell_type": "code", 
            "metadata": {}, 
            "outputs": [
                {
                    "output_type": "stream", 
                    "name": "stdout", 
                    "text": "+------+-------+------+----------+\n|userId|movieId|rating| timestamp|\n+------+-------+------+----------+\n|     1|    151|   4.0|1094785734|\n|     1|    293|   4.0|1112484703|\n|     1|    919|   3.5|1094785621|\n|     1|   1215|   4.0|1094786082|\n|     1|   1249|   4.0|1112485382|\n|     1|   1278|   4.0|1094785986|\n|     1|   1374|   4.0|1094785746|\n|     1|   2644|   3.5|1112484994|\n|     1|   3081|   4.0|1094786143|\n|     1|   3153|   4.0|1112485816|\n|     1|   4105|   3.5|1094786104|\n|     1|   6502|   3.5|1094786048|\n|     1|   6755|   3.5|1094786067|\n|     1|   7164|   3.5|1112485923|\n|     1|   7438|   4.0|1112484789|\n|     1|   8482|   3.5|1112485781|\n|     2|    469|   3.0| 974820598|\n|     2|   3173|   4.0| 974820869|\n|     2|   3565|   3.0| 974820776|\n|     2|   3703|   4.0| 974821014|\n+------+-------+------+----------+\nonly showing top 20 rows\n\n+-------+--------------------+--------------------+\n|movieId|               title|              genres|\n+-------+--------------------+--------------------+\n|      1|    Toy Story (1995)|Adventure|Animati...|\n|      2|      Jumanji (1995)|Adventure|Childre...|\n|      3|Grumpier Old Men ...|      Comedy|Romance|\n|      4|Waiting to Exhale...|Comedy|Drama|Romance|\n|      5|Father of the Bri...|              Comedy|\n|      6|         Heat (1995)|Action|Crime|Thri...|\n|      7|      Sabrina (1995)|      Comedy|Romance|\n|      8| Tom and Huck (1995)|  Adventure|Children|\n|      9| Sudden Death (1995)|              Action|\n|     10|    GoldenEye (1995)|Action|Adventure|...|\n|     11|American Presiden...|Comedy|Drama|Romance|\n|     12|Dracula: Dead and...|       Comedy|Horror|\n|     13|        Balto (1995)|Adventure|Animati...|\n|     14|        Nixon (1995)|               Drama|\n|     15|Cutthroat Island ...|Action|Adventure|...|\n|     16|       Casino (1995)|         Crime|Drama|\n|     17|Sense and Sensibi...|       Drama|Romance|\n|     18|   Four Rooms (1995)|              Comedy|\n|     19|Ace Ventura: When...|              Comedy|\n|     20|  Money Train (1995)|Action|Comedy|Cri...|\n+-------+--------------------+--------------------+\nonly showing top 20 rows\n\n+------+-------+-----------------+----------+\n|userId|movieId|              tag| timestamp|\n+------+-------+-----------------+----------+\n|    18|   4141|      Mark Waters|1240597180|\n|    65|    208|        dark hero|1368150078|\n|    65|    353|        dark hero|1368150079|\n|    65|    521|    noir thriller|1368149983|\n|    65|    592|        dark hero|1368150078|\n|    65|    668|        bollywood|1368149876|\n|    65|    898| screwball comedy|1368150160|\n|    65|   1248|    noir thriller|1368149983|\n|    65|   1391|             mars|1368150055|\n|    65|   1617|         neo-noir|1368150217|\n|    65|   1694|            jesus|1368149925|\n|    65|   1783|    noir thriller|1368149983|\n|    65|   2022|            jesus|1368149925|\n|    65|   2193|           dragon|1368151314|\n|    65|   2353|conspiracy theory|1368151266|\n|    65|   2662|             mars|1368150055|\n|    65|   2726|    noir thriller|1368149983|\n|    65|   2840|            jesus|1368149925|\n|    65|   3052|            jesus|1368149926|\n|    65|   5135|        bollywood|1368149876|\n+------+-------+-----------------+----------+\nonly showing top 20 rows\n\n"
                }
            ], 
            "source": "from pyspark.sql.types import *\n\ndef load_data(fraction, train_fraction, seed):\n    schema = StructType([\n    StructField(\"userId\", IntegerType()),\n    StructField(\"movieId\",IntegerType()),\n    StructField(\"rating\", DoubleType()),\n    StructField(\"timestamp\", IntegerType())\n    ])\n    df_ratings = spark.read.csv(\"ratings.csv\", header=True, mode=\"DROPMALFORMED\", schema=schema)\n    schema = StructType([\n    StructField(\"movieId\", IntegerType()),\n    StructField(\"title\",StringType()),\n    StructField(\"genres\", StringType())\n    ])\n    df_movies = spark.read.csv(\"movies.csv\", header=True, mode=\"DROPMALFORMED\", schema=schema)\n    schema = StructType([\n    StructField(\"userId\", IntegerType()),\n    StructField(\"movieId\",IntegerType()),\n    StructField(\"tag\", StringType()),\n    StructField(\"timestamp\", IntegerType())\n    ])\n    df_tags = spark.read.csv(\"tags.csv\", header=True, mode=\"DROPMALFORMED\", schema=schema)\n    df_ratings = df_ratings.sample(False, fraction, seed)\n    df_ratings_train, df_ratings_test = df_ratings.randomSplit([train_fraction, 1-train_fraction])\n    return df_ratings_train, df_ratings_test ,df_movies, df_tags\n\ndf_ratings_train, df_ratings_test, df_movies, df_tags = load_data(0.1, 0.8, 42)\n\n# Displays the content of the DataFrame to stdout\ndf_ratings_train.show()\ndf_movies.show()\ndf_tags.show()"
        }, 
        {
            "execution_count": 9, 
            "cell_type": "code", 
            "metadata": {
                "pixiedust": {
                    "displayParams": {
                        "handlerId": "tableView", 
                        "table_nosearch": "true", 
                        "table_nocount": "false", 
                        "table_noschema": "false"
                    }
                }, 
                "scrolled": false
            }, 
            "outputs": [
                {
                    "output_type": "stream", 
                    "name": "stdout", 
                    "text": "root\n |-- userId: integer (nullable = true)\n |-- movieId: integer (nullable = true)\n |-- rating: double (nullable = true)\n |-- timestamp: integer (nullable = true)\n\nroot\n |-- movieId: integer (nullable = true)\n |-- title: string (nullable = true)\n |-- genres: string (nullable = true)\n\nroot\n |-- userId: integer (nullable = true)\n |-- movieId: integer (nullable = true)\n |-- tag: string (nullable = true)\n |-- timestamp: integer (nullable = true)\n\n+------+\n|rating|\n+------+\n|   3.5|\n|   4.5|\n|   2.5|\n|   1.0|\n|   4.0|\n|   0.5|\n|   3.0|\n|   2.0|\n|   1.5|\n|   5.0|\n+------+\n\n"
                }
            ], 
            "source": "df_ratings_train.printSchema()\ndf_movies.printSchema()\ndf_tags.printSchema()\n# Create a (temporary) view using the DataFrame, so that we can us use SparkSQL.\ndf_ratings_train.createOrReplaceTempView(\"ratings\")\ndf_movies.createOrReplaceTempView(\"movies\")\ndf_tags.createOrReplaceTempView(\"tags\")\n\n\n# SQL can now be run on the DataFrame. \n# Let's start by selecting only the ratings elements of each row \nresults = spark.sql(\"SELECT DISTINCT rating FROM ratings\")\nresults.show()"
        }, 
        {
            "execution_count": 4, 
            "cell_type": "code", 
            "metadata": {
                "pixiedust": {
                    "displayParams": {
                        "handlerId": "pieChart", 
                        "valueFields": "movieId", 
                        "keyFields": "rating", 
                        "title": "test", 
                        "mpld3": "true", 
                        "aggregation": "COUNT"
                    }
                }
            }, 
            "outputs": [], 
            "source": "from pyspark.ml.recommendation import *\nfrom pyspark.ml import Pipeline, PipelineModel, Transformer, Estimator\nfrom pyspark.ml.tuning import TrainValidationSplit, ParamGridBuilder, CrossValidator, TrainValidationSplitModel\nfrom pyspark.ml.evaluation import Evaluator, RegressionEvaluator\nfrom pyspark.mllib.evaluation import RankingMetrics, RegressionMetrics\nfrom pyspark.sql.functions import col, expr\nfrom pyspark import keyword_only\n\n#custom pre-processing transformer: \nclass SelectSize(Transformer):\n    def _transform(self, df_data, fraction=1, seed=42):\n        df_data = df_data.sample(False, fraction, seed)\n        return df_data\n\n#custom post processing transformer: removes nan entries in predicted ratings\nclass NanRemover(Transformer):\n    def _transform(self, df_pred):\n        df_nonnull = df_pred.dropna(subset=['prediction', ])\n        df_pred = df_nonnull.withColumn('prediction', df_nonnull['prediction'].cast('double'))\n        return df_pred\n\ndef rank_mean_precision_old(df_ratings, df_pred, threshold):\n    df_topuser_ratings = df_ratings.where(\"rating > \"+'{:0.1f}'.format(threshold)).groupBy(\"userId\")\\\n      .agg(expr(\"collect_set(movieId) as movies\"))\n    df_topuser_pred = df_pred.orderBy(col(\"userId\"), expr(\"prediction DESC\")).groupBy(\"userId\")\\\n      .agg(expr(\"collect_list(movieId) as movies\"))\n    df_topuser_ratingsvspred = df_topuser_ratings.join(df_topuser_pred, [\"userId\"]).rdd\\\n      .map(lambda row: (row[1], row[2][:15]))\n    ranks = RankingMetrics(df_topuser_ratingsvspred)\n    return ranks.meanAveragePrecision\n\ndef rank_mean_precision(df_pred, threshold):\n    df_topuser_ratings = df_pred.where(\"rating > \"+'{:0.1f}'.format(threshold)).groupBy(\"userId\")\\\n      .agg(expr(\"collect_set(movieId) as movies\"))\n    df_topuser_pred = df_pred.orderBy(col(\"userId\"), expr(\"prediction DESC\")).groupBy(\"userId\")\\\n      .agg(expr(\"collect_list(movieId) as movies\"))\n    df_topuser_ratingsvspred = df_topuser_ratings.join(df_topuser_pred, [\"userId\"]).rdd\\\n      .map(lambda row: (row[1], row[2][:15]))  ############# CHECKKKKKKKKKKKKKKKKK<<<<<<<=======================\n    ranks = RankingMetrics(df_topuser_ratingsvspred)\n    return ranks.meanAveragePrecision\n\n#custom evaluator: using rank meanAveragePrecision\nclass RankEvaluator(Evaluator):\n    @keyword_only\n    def __init__(self, threshold=None):\n        super(RankEvaluator, self).__init__()\n        self.threshold = Param(self, 'threshold', 'Top K')  ####topK??\n        self._setDefault(threshold=2.5)\n        kwargs = self.__init__._input_kwargs\n        self.setParams(**kwargs)\n    @keyword_only\n    def setParams(self, threshold=None):\n        kwargs = self.setParams._input_kwargs\n        return self._set(**kwargs)\n    def isLargerBetter(self):\n        return True\n    def setThreshold(self, value):\n        self._paramMap[self.threshold] = value\n        return self\n    def getThreshold(self):\n        return self.getOrDefault(self.threshold)\n    def _evaluate(self, df_pred):\n        threshold = self.getThreshold()\n        return rank_mean_precision(df_pred, threshold)\n    \n"
        }, 
        {
            "execution_count": 5, 
            "cell_type": "code", 
            "metadata": {}, 
            "outputs": [
                {
                    "output_type": "stream", 
                    "name": "stdout", 
                    "text": "CPU times: user 0 ns, sys: 0 ns, total: 0 ns\nWall time: 6.2 \u00b5s\nRMSE - training: 0.6106812859309652\nCPU times: user 0 ns, sys: 0 ns, total: 0 ns\nWall time: 6.2 \u00b5s\nRMSE  - testing: 1.0882116360062546\nCPU times: user 0 ns, sys: 0 ns, total: 0 ns\nWall time: 5.01 \u00b5s\nRankMetric - training: 0.7826697707366967\nCPU times: user 0 ns, sys: 0 ns, total: 0 ns\nWall time: 7.15 \u00b5s\nRankMetric  - testing: 0.8908760494658923\n"
                }
            ], 
            "source": "#Define pipeline steps\n#selectsize = SelectSize(fraction=0.5)\nals = ALS(rank=10, maxIter=5, seed=0, regParam=0.01,\n          userCol=\"userId\", itemCol=\"movieId\", ratingCol=\"rating\", nonnegative=True)\nnanremover = NanRemover()\n#non-negative matrix factorisation se https://www.cs.uic.edu/~liub/KDD-cup-2007/proceedings/matrix-fact-Wu.pdf\n#end define pipeline steps\n\n#fit model\npipeline = Pipeline(stages=[als, nanremover])\nmodel = pipeline.fit(df_ratings_train)\n\n#predict and evaluate prediction results\ndf_train_pred = model.transform(df_ratings_train)\ndf_test_pred = model.transform(df_ratings_test)\n\n\nevaluator = RegressionEvaluator(predictionCol=\"prediction\", labelCol=\"rating\", metricName=\"rmse\")\n%time\nprint (\"RMSE - training:\",evaluator.evaluate(df_train_pred))\n%time\nprint (\"RMSE  - testing:\",evaluator.evaluate(df_test_pred))\n\nevaluator = RankEvaluator(threshold=2.5)\n%time\nprint (\"RankMetric - training:\",evaluator.evaluate(df_train_pred))\n%time\nprint (\"RankMetric  - testing:\",evaluator.evaluate(df_test_pred))"
        }, 
        {
            "execution_count": 10, 
            "cell_type": "code", 
            "metadata": {}, 
            "outputs": [
                {
                    "output_type": "stream", 
                    "name": "stdout", 
                    "text": "CPU times: user 0 ns, sys: 0 ns, total: 0 ns\nWall time: 5.01 \u00b5s\nCPU times: user 0 ns, sys: 0 ns, total: 0 ns\nWall time: 7.39 \u00b5s\n"
                }
            ], 
            "source": "paramgrid = ParamGridBuilder()\\\n    .addGrid(als.rank,[5,10,20,40])\\\n    .build()\n    \ntvs = TrainValidationSplit(estimator=pipeline, estimatorParamMaps=paramgrid, evaluator=evaluator, trainRatio=0.75)\n%time\ntvsmodel = tvs.fit(df_ratings_train)\nbest_model = TrainValidationSplitModel(tvs).bestModel"
        }, 
        {
            "execution_count": 19, 
            "cell_type": "code", 
            "metadata": {
                "scrolled": true
            }, 
            "outputs": [
                {
                    "output_type": "stream", 
                    "name": "stdout", 
                    "text": "CPU times: user 0 ns, sys: 0 ns, total: 0 ns\nWall time: 5.96 \u00b5s\nCPU times: user 0 ns, sys: 0 ns, total: 0 ns\nWall time: 11.2 \u00b5s\nCPU times: user 0 ns, sys: 0 ns, total: 0 ns\nWall time: 8.82 \u00b5s\nBest RankMetric - training: 0.7790226172639618\nCPU times: user 0 ns, sys: 0 ns, total: 0 ns\nWall time: 5.72 \u00b5s\n"
                }, 
                {
                    "output_type": "stream", 
                    "name": "stderr", 
                    "text": "Exception ignored in: <bound method JavaModelWrapper.__del__ of <pyspark.mllib.evaluation.RankingMetrics object at 0x7f72587b5080>>\nTraceback (most recent call last):\n  File \"/usr/local/spark/python/pyspark/mllib/common.py\", line 142, in __del__\n    self._sc._gateway.detach(self._java_model)\nAttributeError: 'RankingMetrics' object has no attribute '_sc'\n"
                }, 
                {
                    "output_type": "stream", 
                    "name": "stdout", 
                    "text": "Best RankMetric  - testing: 0.8911543489777336\n"
                }
            ], 
            "source": "%time\ndf_train_pred = tvsmodel.transform(df_ratings_train)\n%time\ndf_test_pred = tvsmodel.transform(df_ratings_test)\n%time\nprint (\"Best RankMetric - training:\",evaluator.evaluate(df_train_pred))\n%time\nprint (\"Best RankMetric  - testing:\",evaluator.evaluate(df_test_pred))\n"
        }, 
        {
            "execution_count": 15, 
            "cell_type": "code", 
            "metadata": {
                "scrolled": false
            }, 
            "outputs": [
                {
                    "execution_count": 15, 
                    "metadata": {}, 
                    "data": {
                        "text/plain": "0.7790316648009347"
                    }, 
                    "output_type": "execute_result"
                }
            ], 
            "source": "df_train_pred"
        }, 
        {
            "execution_count": 16, 
            "cell_type": "code", 
            "metadata": {}, 
            "outputs": [
                {
                    "execution_count": 16, 
                    "metadata": {}, 
                    "data": {
                        "text/plain": "0.8911425259017919"
                    }, 
                    "output_type": "execute_result"
                }
            ], 
            "source": "df_test_pred"
        }, 
        {
            "execution_count": null, 
            "cell_type": "code", 
            "metadata": {
                "collapsed": true
            }, 
            "outputs": [], 
            "source": ""
        }, 
        {
            "execution_count": null, 
            "cell_type": "code", 
            "metadata": {
                "collapsed": true
            }, 
            "outputs": [], 
            "source": ""
        }
    ], 
    "metadata": {
        "kernelspec": {
            "display_name": "Python 3.5 with Spark 2.1", 
            "name": "python3-spark21", 
            "language": "python"
        }, 
        "language_info": {
            "mimetype": "text/x-python", 
            "nbconvert_exporter": "python", 
            "version": "3.5.4", 
            "name": "python", 
            "file_extension": ".py", 
            "pygments_lexer": "ipython3", 
            "codemirror_mode": {
                "version": 3, 
                "name": "ipython"
            }
        }
    }, 
    "nbformat": 4
}